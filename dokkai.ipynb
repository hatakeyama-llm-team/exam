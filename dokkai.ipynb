{
 "cells": [
  {
   "cell_type": "code",
   "execution_count": 1,
   "metadata": {},
   "outputs": [
    {
     "name": "stderr",
     "output_type": "stream",
     "text": [
      "/home/hatakeyama/miniconda3/envs/textprocess/lib/python3.12/site-packages/tqdm/auto.py:21: TqdmWarning: IProgress not found. Please update jupyter and ipywidgets. See https://ipywidgets.readthedocs.io/en/stable/user_install.html\n",
      "  from .autonotebook import tqdm as notebook_tqdm\n"
     ]
    }
   ],
   "source": [
    "from datasets import load_dataset\n",
    "ds=load_dataset('khalidalt/tydiqa-goldp',\n",
    "                \"japanese\",\n",
    "                #language=\"japanese\",\n",
    "                split=\"train\",\n",
    "                streaming=True)    \n"
   ]
  },
  {
   "cell_type": "code",
   "execution_count": 2,
   "metadata": {},
   "outputs": [],
   "source": [
    "loader=iter(ds)"
   ]
  },
  {
   "cell_type": "code",
   "execution_count": 3,
   "metadata": {},
   "outputs": [],
   "source": [
    "inst_text=\"\"\"\n",
    "質問に対する回答を文章から一言で抽出すること。回答は名詞で回答すること。それ以外には何も含めないこと。\n",
    "回答を文章から一言で回答。 それ以外には何も含めない\n",
    "質問に対する回答を文章から一言、名詞で抽出すること。 それ以外には絶対に含めないこと。\n",
    "次の文章を読み、回答を名詞で抽出すること。 それ以外には絶対に含めないでください。\n",
    "文章を読み、質問に対する回答を名詞で抽出すること。 それ以外には絶対に含めないでください。\n",
    "次の文章を読んだ上で､質問に対する回答を出力せよ｡回答は名詞で出力し､それ以外は含めないこと｡\n",
    "次の文章を読み、質問に対する回答を名詞で抽出すること。 それ以外には絶対に含めないでください。\n",
    "以下の文章を読み、質問に対する回答を名詞で抽出してください。 それ以外には何も含めないでください。\n",
    "以下の文章を読み、質問に対する回答を名詞で抽出してください。 それ以外には何も含めないことを厳守すること。\n",
    "以下の文章を読み、質問に対する回答を名詞で抽出してください。 それ以外には何も含めない。\n",
    "\"\"\""
   ]
  },
  {
   "cell_type": "code",
   "execution_count": 8,
   "metadata": {},
   "outputs": [],
   "source": [
    "import random\n",
    "from src.utils import write_jsonl,random_toi,random_text_select\n",
    "\n",
    "\n",
    "n_problems=1000\n",
    "problem_list=[]\n",
    "for i in range(n_problems):\n",
    "\n",
    "    d=next(loader)\n",
    "\n",
    "    a=d[\"answers\"][\"text\"][0]\n",
    "    text=d[\"passage_text\"]\n",
    "    q=d[\"question_text\"]\n",
    "\n",
    "\n",
    "    #作文\n",
    "    q_text=text+\"\\n\"+random_toi()+q\n",
    "\n",
    "    d={\n",
    "        \"instruction\":random_text_select(inst_text),\n",
    "        \"question\":q_text,\n",
    "        \"answer\":a,\n",
    "\n",
    "    }\n",
    "    problem_list.append(d)\n",
    "\n",
    "write_jsonl(problem_list,\"data/jsonl/dokkai.jsonl\")"
   ]
  },
  {
   "cell_type": "code",
   "execution_count": 5,
   "metadata": {},
   "outputs": [
    {
     "data": {
      "text/plain": [
       "{'instruction': '',\n",
       " 'question': 'ジョージ・ローレンス・マイカン（George Lawrence Mikan Jr, 1924年6月18日 - 2005年6月1日）はアメリカ合衆国のバスケットボール選手。イリノイ州ジョリエット出身。Mr.バスケットボール</b>の称号を与えられたNBAの偉人である。身長208cm、体重111kg、ポジションはセンター。現代バスケットボールが形成される上でその発展に最も影響を与えた選手の一人であり、NBA最初期における最重要人物であり、彼の登場以後、バスケットボールは「巨人のスポーツ」となった。\\n問い：\\u3000ジョージ・ローレンス・マイカンはいつ生まれた？',\n",
       " 'answer': '1924年6月18日'}"
      ]
     },
     "execution_count": 5,
     "metadata": {},
     "output_type": "execute_result"
    }
   ],
   "source": [
    "d"
   ]
  },
  {
   "cell_type": "code",
   "execution_count": null,
   "metadata": {},
   "outputs": [],
   "source": []
  }
 ],
 "metadata": {
  "kernelspec": {
   "display_name": "textprocess",
   "language": "python",
   "name": "python3"
  },
  "language_info": {
   "codemirror_mode": {
    "name": "ipython",
    "version": 3
   },
   "file_extension": ".py",
   "mimetype": "text/x-python",
   "name": "python",
   "nbconvert_exporter": "python",
   "pygments_lexer": "ipython3",
   "version": "3.12.2"
  }
 },
 "nbformat": 4,
 "nbformat_minor": 2
}
