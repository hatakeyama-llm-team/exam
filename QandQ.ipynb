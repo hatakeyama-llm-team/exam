{
 "cells": [
  {
   "cell_type": "code",
   "execution_count": 3,
   "metadata": {},
   "outputs": [],
   "source": [
    "# Q and Aを作る\n",
    "#データソースはCC４ライセンス\n",
    "#https://www.nlp.ecei.tohoku.ac.jp/projects/jaqket/"
   ]
  },
  {
   "cell_type": "code",
   "execution_count": 4,
   "metadata": {},
   "outputs": [],
   "source": [
    "#!wget https://jaqket.s3.ap-northeast-1.amazonaws.com/data/aio_01/train_questions.json"
   ]
  },
  {
   "cell_type": "code",
   "execution_count": 46,
   "metadata": {},
   "outputs": [
    {
     "name": "stdout",
     "output_type": "stream",
     "text": [
      "13061\n"
     ]
    }
   ],
   "source": [
    "import json\n",
    "#jsonlを読み込む\n",
    "path=\"data/train_questions.json\"\n",
    "problem_list=[]\n",
    "with open(path, 'r') as f:\n",
    "    for line in f:\n",
    "        problem_list.append(json.loads(line))\n",
    "print(len(problem_list))"
   ]
  },
  {
   "cell_type": "code",
   "execution_count": 47,
   "metadata": {},
   "outputs": [],
   "source": [
    "loader=iter(problem_list)"
   ]
  },
  {
   "cell_type": "code",
   "execution_count": 48,
   "metadata": {},
   "outputs": [],
   "source": [
    "import random\n",
    "#５択問題を作る\n",
    "n_problems=10\n",
    "\n",
    "q_list=[]\n",
    "a_list=[]\n",
    "\n",
    "\n",
    "for i in range(500):\n",
    "    problem=next(loader)\n",
    "    q=problem[\"question\"]\n",
    "    a=problem[\"answer_candidates\"][0]\n",
    "\n",
    "    other_choices=random.sample(problem[\"answer_candidates\"][1:], 4)\n",
    "\n",
    "    ans_id=random.randint(0,4)\n",
    "    choices=other_choices[:ans_id]+[a]+other_choices[ans_id:]\n",
    "\n",
    "    #作文\n",
    "    inst=random.choice([\"質問　\",\"問い：　\",\"質問：　\",\"問い　\",\"問題：　\",\"問題　\",\"\"])\n",
    "    q_text=inst+q\n",
    "\n",
    "    choice_text=\"\"\n",
    "    sep1=random.choice([\".\",\":\"])\n",
    "    sep2=random.choice([\",\",\" \",\"\\n\"])\n",
    "    for i,choice in enumerate(choices):\n",
    "        choice_text+=str(i)+sep1+choice+sep2\n",
    "\n",
    "    choice_text=choice_text[:-1]\n",
    "    choice_text\n",
    "    q_text+=\"\\n\"+random.choice([\"選択肢：\",\"\",\"選択肢　\"])+choice_text\n",
    "\n",
    "    q_list.append(q_text)\n",
    "    a_list.append(ans_id)"
   ]
  },
  {
   "cell_type": "code",
   "execution_count": 49,
   "metadata": {},
   "outputs": [],
   "source": [
    "with open(\"data/5qa/q.txt\", \"w\") as f:\n",
    "    for i in q_list:\n",
    "        #\\nをescape\n",
    "        i=i.replace(\"\\n\",\"\\\\n\")\n",
    "        f.write(i+\"\\n\")\n",
    "with open(\"data/5qa/a.txt\", \"w\") as f:\n",
    "    for i in a_list:\n",
    "        f.write(str(i)+\"\\n\")"
   ]
  },
  {
   "cell_type": "code",
   "execution_count": 50,
   "metadata": {},
   "outputs": [],
   "source": [
    "inst_lines=\"\"\"質問に回答し、選ばれた答えを選択肢の番号を出力指定してください。答える際には数値のみを返してください。\n",
    "答えを選択肢のインデックスで選んでください。返す値は整数型の数値だけにすること。\n",
    "入力された質問とそれに対する選択肢から、選択する答えを番号で出力してください。返答はint型の数字のみが許されます。\n",
    "選んだ答えをその選択肢の番号で示してください。\n",
    "質問と選択肢を基に、答えを選択し、その番号を返してください。返すべきは整数のみです。\n",
    "選んだ答えの番号をint型で指定して返してください。\n",
    "入力された質問と選択肢にもとづいて、答えを選択肢の番号で選び、整数型で返してください。\n",
    "受け取った質問と選択肢に沿って、答えを番号で指定し、それを整数型でのみ返してください。\n",
    "質問に回答して。出力は数値のみを返すこと\n",
    "質問に答えてください。答えは数値のみで返してください。\n",
    "質問に対して答えを選んでください。答えは数値のみで返してください。\n",
    "質問に回答し、選択肢の番号を返してください。答えは数値のみで返してください。\"\"\"\n",
    "\n",
    "inst_lines=inst_lines.split(\"\\n\")\n",
    "for i in range(len(q_list)):\n",
    "    inst=random.choice(inst_lines)\n",
    "    with open(\"data/5qa/instructions.txt\", \"a\") as f:\n",
    "        f.write(inst+\"\\n\")"
   ]
  },
  {
   "cell_type": "code",
   "execution_count": 51,
   "metadata": {},
   "outputs": [],
   "source": [
    "#単語を答えるタイプの問題"
   ]
  },
  {
   "cell_type": "code",
   "execution_count": 54,
   "metadata": {},
   "outputs": [],
   "source": [
    "\n",
    "\n",
    "n_problems=10\n",
    "\n",
    "q_list=[]\n",
    "a_list=[]\n",
    "\n",
    "\n",
    "for i in range(500):\n",
    "    problem=next(loader)\n",
    "    q=problem[\"question\"]\n",
    "    a=problem[\"answer_candidates\"][0]\n",
    "\n",
    "    #作文\n",
    "    inst=random.choice([\"質問　\",\"問い：　\",\"質問：　\",\"問い　\",\"問題：　\",\"問題　\",\"\"])\n",
    "    q_text=inst+q\n",
    "\n",
    "    q_list.append(q_text)\n",
    "    a_list.append(a)"
   ]
  },
  {
   "cell_type": "code",
   "execution_count": 58,
   "metadata": {},
   "outputs": [],
   "source": [
    "\n",
    "with open(\"data/qa/q.txt\", \"w\") as f:\n",
    "    for i in q_list:\n",
    "        #\\nをescape\n",
    "        i=i.replace(\"\\n\",\"\\\\n\")\n",
    "        f.write(i+\"\\n\")\n",
    "with open(\"data/qa/a.txt\", \"w\") as f:\n",
    "    for i in a_list:\n",
    "        f.write(str(i)+\"\\n\")\n",
    "\n",
    "\n",
    "inst_lines=\"\"\"次の質問に回答してください。それ以外のことは書かないでください。\n",
    "以下の質問に答えてください。回答のみを出力することを厳守\n",
    "次の質問への回答を生成。回答のみを記載してください。\n",
    "質問に対する答えを教えて。余計なことは一切書かないで。\n",
    "回答以外何も書かずに、この質問に答えて\n",
    "この質問に答えてください。他のことは記載しないでください。\n",
    "次の質問に答えてください。他は何も書かないよう、厳守をお願いします。\n",
    "この質問に答えて。それ以外のことは記載しないで。\n",
    "下記の質問に対する回答をお願いします。回答以外は何も書かないことを厳守すること。\"\"\"\n",
    "\n",
    "inst_lines=inst_lines.split(\"\\n\")\n",
    "inst_lines=[i for i in inst_lines if i!=\"\"]\n",
    "for i in range(len(q_list)):\n",
    "    inst=random.choice(inst_lines)\n",
    "    with open(\"data/qa/instructions.txt\", \"a\") as f:\n",
    "        f.write(inst+\"\\n\")"
   ]
  },
  {
   "cell_type": "code",
   "execution_count": null,
   "metadata": {},
   "outputs": [],
   "source": []
  }
 ],
 "metadata": {
  "kernelspec": {
   "display_name": "textprocess",
   "language": "python",
   "name": "python3"
  },
  "language_info": {
   "codemirror_mode": {
    "name": "ipython",
    "version": 3
   },
   "file_extension": ".py",
   "mimetype": "text/x-python",
   "name": "python",
   "nbconvert_exporter": "python",
   "pygments_lexer": "ipython3",
   "version": "3.12.2"
  }
 },
 "nbformat": 4,
 "nbformat_minor": 2
}
