{
 "cells": [
  {
   "cell_type": "code",
   "execution_count": 2,
   "metadata": {},
   "outputs": [],
   "source": [
    "#true/false系問題"
   ]
  },
  {
   "cell_type": "code",
   "execution_count": 3,
   "metadata": {},
   "outputs": [
    {
     "name": "stderr",
     "output_type": "stream",
     "text": [
      "/home/hatakeyama/miniconda3/envs/textprocess/lib/python3.12/site-packages/tqdm/auto.py:21: TqdmWarning: IProgress not found. Please update jupyter and ipywidgets. See https://ipywidgets.readthedocs.io/en/stable/user_install.html\n",
      "  from .autonotebook import tqdm as notebook_tqdm\n"
     ]
    }
   ],
   "source": [
    "from datasets import load_dataset\n",
    "import pandas as pd\n",
    "\n",
    "#英語のデータセットの抽出用\n",
    "#dataset=load_dataset(\"google/boolq\",split=\"train\")\n",
    "#df=pd.DataFrame(dataset)\n",
    "#df.to_csv(\"data/boolq.csv\",index=False)"
   ]
  },
  {
   "cell_type": "code",
   "execution_count": 4,
   "metadata": {},
   "outputs": [],
   "source": [
    "df=pd.read_csv(\"datasets/boolq_ja.csv\")\n",
    "df\n",
    "\n",
    "loader=iter(df.values)"
   ]
  },
  {
   "cell_type": "code",
   "execution_count": 5,
   "metadata": {},
   "outputs": [
    {
     "data": {
      "text/plain": [
       "array(['FIFAは4年ごとに新しいワールドカップトロフィーを作りますか？', 'No'], dtype=object)"
      ]
     },
     "execution_count": 5,
     "metadata": {},
     "output_type": "execute_result"
    }
   ],
   "source": [
    "next(loader)"
   ]
  },
  {
   "cell_type": "code",
   "execution_count": 6,
   "metadata": {},
   "outputs": [],
   "source": [
    "from src.utils import random_text_select,write_jsonl\n",
    "inst_lines=\"\"\"次の質問に答えてください。それ以外のことは書かないでください。回答は単語またはYES/NOでお願いします。\n",
    "以下の質問にお答えください。回答のみ記載し、他のことは書かないでください。答えは単語またはYES/NOです。\n",
    "次の質問に対する答えを生成してください。回答のみを記載し、その他の情報は書かないでください。単語またはYES/NOで答えてください。\n",
    "質問に答えてください。他の情報は記載しないでください。単語またはYES/NOで答えてください。\n",
    "この質問に対する答えを教えてください。余計な情報は含めず、回答のみを記載してください。単語またはYES/NOで回答してください。\n",
    "次の質問にお答えください。余計なことは書かないでください。単語またはYES/NOで答えてください。\n",
    "質問に答えてください。他のことは書かないでください。単語またはYES/NOで答えてください。\n",
    "以下の質問に対する回答をお願いします。回答のみを記載し、他の情報は書かないでください。単語またはYES/NOで回答してください。\n",
    "この質問に答えてください。他の情報は記載しないでください。単語またはYES/NOで答えてください。\n",
    "次の質問に回答してください。他のことは記載せず、答えだけを書いてください。単語またはYES/NOで答えてください。\n",
    "以下の質問に対する答えをお願いします。回答以外は何も書かず、他の情報は省略してください。単語またはYES/NOで回答してください。\n",
    "次の質問に答えてください。余計な情報は書かずに、回答のみを記載してください。単語またはYES/NOで答えてください。\n",
    "この質問に答えてください。回答のみを記載し、その他の情報は省略してください。単語またはYES/NOで答えてください。\n",
    "以下の質問に答えてください。回答以外は記載せず、余計な情報は省略してください。単語またはYES/NOで回答してください。\n",
    "質問に対する答えを教えてください。他の情報は書かずに、回答のみを記載してください。単語またはYES/NOで答えてください。\n",
    "この質問に答えてください。回答は単語またはYES/NOでお願いします。他のことは書かないでください。\n",
    "以下の質問にお答えください。余計な情報は省いて、単語またはYES/NOで答えてください。他のことは書かないでください。\"\"\"\n",
    "\n",
    "n_problems=120\n",
    "problem_list=[]\n",
    "for i in range(n_problems):\n",
    "    problem=next(loader)\n",
    "    q=problem[0]\n",
    "    a=problem[1]\n",
    "\n",
    "    #作文\n",
    "    q_text=q\n",
    "    d={\n",
    "        \"instruction\":random_text_select(inst_lines),\n",
    "        \"question\":q_text,\n",
    "        \"answer\":a\n",
    "    }\n",
    "    problem_list.append(d)\n",
    "write_jsonl(problem_list,\"data/jsonl/boolq.jsonl\")"
   ]
  },
  {
   "cell_type": "code",
   "execution_count": null,
   "metadata": {},
   "outputs": [],
   "source": []
  }
 ],
 "metadata": {
  "kernelspec": {
   "display_name": "textprocess",
   "language": "python",
   "name": "python3"
  },
  "language_info": {
   "codemirror_mode": {
    "name": "ipython",
    "version": 3
   },
   "file_extension": ".py",
   "mimetype": "text/x-python",
   "name": "python",
   "nbconvert_exporter": "python",
   "pygments_lexer": "ipython3",
   "version": "3.12.2"
  }
 },
 "nbformat": 4,
 "nbformat_minor": 2
}
