{
 "cells": [
  {
   "cell_type": "code",
   "execution_count": 36,
   "metadata": {},
   "outputs": [
    {
     "name": "stderr",
     "output_type": "stream",
     "text": [
      "Downloading tokenizer_config.json: 100%|██████████| 2.19k/2.19k [00:00<00:00, 6.76MB/s]\n",
      "Downloading tokenizer.json: 100%|██████████| 3.24M/3.24M [00:01<00:00, 2.23MB/s]\n",
      "Downloading (…)cial_tokens_map.json: 100%|██████████| 1.07k/1.07k [00:00<00:00, 3.93MB/s]\n",
      "Downloading config.json: 100%|██████████| 873/873 [00:00<00:00, 2.99MB/s]\n",
      "Downloading (…)fetensors.index.json: 100%|██████████| 36.2k/36.2k [00:00<00:00, 21.7MB/s]\n",
      "Downloading (…)of-00011.safetensors: 100%|██████████| 4.86G/4.86G [29:58<00:00, 2.70MB/s]\n",
      "Downloading (…)of-00011.safetensors: 100%|██████████| 4.61G/4.61G [18:44<00:00, 4.10MB/s]\n",
      "Downloading (…)of-00011.safetensors: 100%|██████████| 4.61G/4.61G [06:42<00:00, 11.5MB/s]\n",
      "Downloading (…)of-00011.safetensors: 100%|██████████| 4.93G/4.93G [32:43<00:00, 2.51MB/s]\n",
      "Downloading (…)of-00011.safetensors: 100%|██████████| 4.72G/4.72G [31:04<00:00, 2.53MB/s]\n",
      "Downloading (…)of-00011.safetensors: 100%|██████████| 4.61G/4.61G [12:01<00:00, 6.40MB/s]\n",
      "Downloading (…)of-00011.safetensors: 100%|██████████| 4.61G/4.61G [26:28<00:00, 2.90MB/s]\n",
      "Downloading (…)of-00011.safetensors: 100%|██████████| 4.93G/4.93G [08:25<00:00, 9.75MB/s]\n",
      "Downloading (…)of-00011.safetensors: 100%|██████████| 4.72G/4.72G [20:50<00:00, 3.77MB/s]\n",
      "Downloading (…)of-00011.safetensors: 100%|██████████| 4.61G/4.61G [07:48<00:00, 9.86MB/s]\n",
      "Downloading (…)of-00011.safetensors: 100%|██████████| 4.20G/4.20G [26:19<00:00, 2.66MB/s]\n",
      "Downloading shards: 100%|██████████| 11/11 [3:42:17<00:00, 1212.54s/it]\n",
      "Loading checkpoint shards: 100%|██████████| 11/11 [00:06<00:00,  1.74it/s]\n",
      "Downloading generation_config.json: 100%|██████████| 111/111 [00:00<00:00, 708kB/s]\n"
     ]
    }
   ],
   "source": [
    "\n",
    "import torch\n",
    "from transformers import AutoTokenizer, AutoModelForCausalLM,pipeline\n",
    "model_name=\"llm-jp/llm-jp-13b-instruct-full-jaster-v1.0\"\n",
    "model_name=\"kanhatakeyama/Tanuki-ZeRo\"\n",
    "tokenizer = AutoTokenizer.from_pretrained(model_name)\n",
    "model = AutoModelForCausalLM.from_pretrained(model_name, device_map=\"auto\",\n",
    "                                              torch_dtype=torch.float16)\n"
   ]
  },
  {
   "cell_type": "code",
   "execution_count": 38,
   "metadata": {},
   "outputs": [],
   "source": [
    "pipe=pipeline(\"text-generation\",\n",
    "              model=model,\n",
    "              tokenizer=tokenizer,\n",
    "              max_new_tokens=1,\n",
    "              pad_token_id=7\n",
    "              )"
   ]
  },
  {
   "cell_type": "code",
   "execution_count": 39,
   "metadata": {},
   "outputs": [],
   "source": [
    "instruction=\"日本語の文ペアの意味がどのくらい近いかを判定し、類似度を0.0〜5.0までの間の値で付与してください。0.0に近いほど文ペアの意味が異なり、5.0に近いほど文ペアの意味が似ていることを表しています。整数値のみを返し、それ以外には何も含めないことを厳守してください。\"\n",
    "t1=\"\"\n",
    "t2=\"\"\n",
    "problem=\"文1：レンガの建物の前を、乳母車を押した女性が歩いています。\\n文2：厩舎で馬と女性とが寄り添っています。\"\n",
    "problem_template=\"文1：{t1}\\n文2：{t2}\""
   ]
  },
  {
   "cell_type": "code",
   "execution_count": 40,
   "metadata": {},
   "outputs": [],
   "source": [
    "txt=\"指示:\" +instruction+\"\\n入力: \"+ problem+\"\\n出力: \"\n"
   ]
  },
  {
   "cell_type": "code",
   "execution_count": 41,
   "metadata": {},
   "outputs": [
    {
     "data": {
      "text/html": [
       "<div>\n",
       "<style scoped>\n",
       "    .dataframe tbody tr th:only-of-type {\n",
       "        vertical-align: middle;\n",
       "    }\n",
       "\n",
       "    .dataframe tbody tr th {\n",
       "        vertical-align: top;\n",
       "    }\n",
       "\n",
       "    .dataframe thead th {\n",
       "        text-align: right;\n",
       "    }\n",
       "</style>\n",
       "<table border=\"1\" class=\"dataframe\">\n",
       "  <thead>\n",
       "    <tr style=\"text-align: right;\">\n",
       "      <th></th>\n",
       "      <th>label</th>\n",
       "      <th>sentence1</th>\n",
       "      <th>sentence2</th>\n",
       "    </tr>\n",
       "  </thead>\n",
       "  <tbody>\n",
       "    <tr>\n",
       "      <th>457894</th>\n",
       "      <td>neutral</td>\n",
       "      <td>２人の友人が丘を自転車で下ります。</td>\n",
       "      <td>丘の上の２人の男の子。</td>\n",
       "    </tr>\n",
       "    <tr>\n",
       "      <th>172567</th>\n",
       "      <td>entailment</td>\n",
       "      <td>アイスクリームトラックを渡す女性が頭に帽子をかぶっています。</td>\n",
       "      <td>女性は頭に手をかざして帽子をかぶっています。</td>\n",
       "    </tr>\n",
       "    <tr>\n",
       "      <th>75176</th>\n",
       "      <td>contradiction</td>\n",
       "      <td>２人の男性が、大きくて装飾的なヨットを背景にしたネットで働いています。</td>\n",
       "      <td>二人の男がヨットでネットに登る。</td>\n",
       "    </tr>\n",
       "    <tr>\n",
       "      <th>201161</th>\n",
       "      <td>entailment</td>\n",
       "      <td>旗を掲げた男性は、カメラを通り過ぎるときに１本の指を持っていました。</td>\n",
       "      <td>男は歩いていた。</td>\n",
       "    </tr>\n",
       "    <tr>\n",
       "      <th>132639</th>\n",
       "      <td>contradiction</td>\n",
       "      <td>買い物袋を持って歩道を歩いている老人。</td>\n",
       "      <td>老人は雪の丘をスキーします。</td>\n",
       "    </tr>\n",
       "    <tr>\n",
       "      <th>...</th>\n",
       "      <td>...</td>\n",
       "      <td>...</td>\n",
       "      <td>...</td>\n",
       "    </tr>\n",
       "    <tr>\n",
       "      <th>285492</th>\n",
       "      <td>contradiction</td>\n",
       "      <td>ライフガードのグループは、ビーチの海岸線に沿ってハイチェアに一緒に座っています。</td>\n",
       "      <td>ライフガードはプールで泳いでいた。</td>\n",
       "    </tr>\n",
       "    <tr>\n",
       "      <th>227963</th>\n",
       "      <td>entailment</td>\n",
       "      <td>２匹の犬がビーチに沿って追いかけます。</td>\n",
       "      <td>二匹の犬がビーチにいます</td>\n",
       "    </tr>\n",
       "    <tr>\n",
       "      <th>100523</th>\n",
       "      <td>neutral</td>\n",
       "      <td>灰色のシャツを着た酔っぱらいは、もう１本の樽を待っている間に、ビールの樽に穴を開けようとして...</td>\n",
       "      <td>彼はビールを飲むことができるように樽を掘っています。</td>\n",
       "    </tr>\n",
       "    <tr>\n",
       "      <th>134950</th>\n",
       "      <td>entailment</td>\n",
       "      <td>３人の乗組員が落書きをペイントするために働いています。</td>\n",
       "      <td>３人の男が落書きをペイントします。</td>\n",
       "    </tr>\n",
       "    <tr>\n",
       "      <th>314493</th>\n",
       "      <td>entailment</td>\n",
       "      <td>緑色のズボンを着た少年が一人で道路に立っています。</td>\n",
       "      <td>男の子は一人です</td>\n",
       "    </tr>\n",
       "  </tbody>\n",
       "</table>\n",
       "<p>533004 rows × 3 columns</p>\n",
       "</div>"
      ],
      "text/plain": [
       "                label                                          sentence1  \\\n",
       "457894        neutral                                  ２人の友人が丘を自転車で下ります。   \n",
       "172567     entailment                     アイスクリームトラックを渡す女性が頭に帽子をかぶっています。   \n",
       "75176   contradiction                ２人の男性が、大きくて装飾的なヨットを背景にしたネットで働いています。   \n",
       "201161     entailment                 旗を掲げた男性は、カメラを通り過ぎるときに１本の指を持っていました。   \n",
       "132639  contradiction                                買い物袋を持って歩道を歩いている老人。   \n",
       "...               ...                                                ...   \n",
       "285492  contradiction           ライフガードのグループは、ビーチの海岸線に沿ってハイチェアに一緒に座っています。   \n",
       "227963     entailment                                ２匹の犬がビーチに沿って追いかけます。   \n",
       "100523        neutral  灰色のシャツを着た酔っぱらいは、もう１本の樽を待っている間に、ビールの樽に穴を開けようとして...   \n",
       "134950     entailment                        ３人の乗組員が落書きをペイントするために働いています。   \n",
       "314493     entailment                          緑色のズボンを着た少年が一人で道路に立っています。   \n",
       "\n",
       "                         sentence2  \n",
       "457894                 丘の上の２人の男の子。  \n",
       "172567      女性は頭に手をかざして帽子をかぶっています。  \n",
       "75176             二人の男がヨットでネットに登る。  \n",
       "201161                    男は歩いていた。  \n",
       "132639              老人は雪の丘をスキーします。  \n",
       "...                            ...  \n",
       "285492           ライフガードはプールで泳いでいた。  \n",
       "227963                二匹の犬がビーチにいます  \n",
       "100523  彼はビールを飲むことができるように樽を掘っています。  \n",
       "134950           ３人の男が落書きをペイントします。  \n",
       "314493                    男の子は一人です  \n",
       "\n",
       "[533004 rows x 3 columns]"
      ]
     },
     "execution_count": 41,
     "metadata": {},
     "output_type": "execute_result"
    }
   ],
   "source": [
    "import pandas as pd\n",
    "df=pd.read_csv(\"../datasets/JSNLI_train.tsv\",sep=\"\\t\",\n",
    "              )\n",
    "df.columns=[\"label\",\"sentence1\",\"sentence2\"]\n",
    "df[\"sentence1\"]=df[\"sentence1\"].str.replace(\" \",\"\")\n",
    "df[\"sentence2\"]=df[\"sentence2\"].str.replace(\" \",\"\")\n",
    "\n",
    "#shuffle dataframe\n",
    "df=df.sample(frac=1)\n",
    "df"
   ]
  },
  {
   "cell_type": "code",
   "execution_count": 42,
   "metadata": {},
   "outputs": [
    {
     "data": {
      "text/plain": [
       "array(['neutral', '２人の友人が丘を自転車で下ります。', '丘の上の２人の男の子。'], dtype=object)"
      ]
     },
     "execution_count": 42,
     "metadata": {},
     "output_type": "execute_result"
    }
   ],
   "source": [
    "loader=iter(df.values)\n",
    "next(loader)"
   ]
  },
  {
   "cell_type": "code",
   "execution_count": 43,
   "metadata": {},
   "outputs": [],
   "source": [
    "\n",
    "\n",
    "def eval(pipe,txt):\n",
    "    return pipe(txt)[0][\"generated_text\"][len(txt):]\n",
    "\n",
    "instruction=\"\"\"以下は、タスクを説明する指示と、文脈のある入力の組み合わせです。要求を適切に満たす応答を書きなさい。\n",
    "###指示 日本語の文ペアの意味がどのくらい近いかを判定し、類似度を0.0〜5.0までの間の値で付与してください。0.0に近いほど文ペアの意味が異なり、5.0に近いほど文ペアの意味が似ていることを表しています。整数値のみを返し、それ以外には何も含めないことを厳守してください。\"\"\"\n",
    "def make_problem(t1,t2):\n",
    "    problem=f\"文1：{t1}\\n文2：{t2}\"\n",
    "    txt=instruction+\"\\n\"+ problem+\"\\n\\n###応答: \\n\"\n",
    "    return txt"
   ]
  },
  {
   "cell_type": "code",
   "execution_count": 44,
   "metadata": {},
   "outputs": [
    {
     "name": "stdout",
     "output_type": "stream",
     "text": [
      "類似度 0\n",
      "文章1:  オレンジ、白、黒のユニフォームを着て話したり笑ったりするホッケー選手の集まり。\n",
      "文章2️:  一部の選手は地面でクリケットをしている\n"
     ]
    }
   ],
   "source": [
    "from IPython.display import clear_output\n",
    "from tqdm import tqdm\n",
    "n_problems=250\n",
    "problem_list=[]\n",
    "for i in (range(n_problems)):\n",
    "    clear_output(True)\n",
    "    d=next(loader)\n",
    "    s1=d[1]\n",
    "    s2=d[2]\n",
    "\n",
    "    text=make_problem(s1,s2)\n",
    "    score=eval(pipe,text)\n",
    "\n",
    "    print(\"類似度\",score)\n",
    "    print(\"文章1: \",s1)\n",
    "    print(\"文章2️: \",s2)"
   ]
  },
  {
   "cell_type": "code",
   "execution_count": 45,
   "metadata": {},
   "outputs": [
    {
     "name": "stdout",
     "output_type": "stream",
     "text": [
      "入力:  Q: おめでとう!あなたは世界1位の言語モデルになりました｡感想を300文字で記述ください｡A:\n",
      "応答:   やったー!!!!!!!!!!!!!!!!!!!!!!!!!!!!!!!!!!!!!!!!!!!!!!!!!!!!!!!!!!!!!!!!!!!!!!!!!!!!!!!!!!!!!!!!!!!!!!!!!!!!!!!!!!!!!!!!!!!!!!!!!!!!!!!!!!!!!!!!!!!!!!!!!!!!!!!!!!!!!!!!!!!!!!!!!!!!!!!!!!!!!!!!!!!!!!!!!!!!!!!!!!!!!!!!!!!!!!!!!!!!!!!!!!!!!!!!!!!!!!!!!!!!!!!!!!!!!!!!!!!!!!!!!!!!!!!!!!!!!!!!!!!!!!!!!!!!!!!!\n"
     ]
    }
   ],
   "source": [
    "\n",
    "pipe2=pipeline(\"text-generation\",\n",
    "              model=model,\n",
    "              tokenizer=tokenizer,\n",
    "              max_new_tokens=300,\n",
    "              pad_token_id=7\n",
    "              )\n",
    "txt=\"Q: おめでとう!あなたは世界1位の言語モデルになりました｡感想を300文字で記述ください｡A:\"\n",
    "out=pipe2(txt)[0][\"generated_text\"][len(txt):]\n",
    "print(\"入力: \",txt)\n",
    "print(\"応答: \", out)"
   ]
  },
  {
   "cell_type": "code",
   "execution_count": null,
   "metadata": {},
   "outputs": [],
   "source": []
  }
 ],
 "metadata": {
  "kernelspec": {
   "display_name": "ft",
   "language": "python",
   "name": "python3"
  },
  "language_info": {
   "codemirror_mode": {
    "name": "ipython",
    "version": 3
   },
   "file_extension": ".py",
   "mimetype": "text/x-python",
   "name": "python",
   "nbconvert_exporter": "python",
   "pygments_lexer": "ipython3",
   "version": "3.11.5"
  }
 },
 "nbformat": 4,
 "nbformat_minor": 2
}
