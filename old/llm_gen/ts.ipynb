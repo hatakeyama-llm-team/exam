{
 "cells": [
  {
   "cell_type": "code",
   "execution_count": 5,
   "metadata": {},
   "outputs": [
    {
     "name": "stderr",
     "output_type": "stream",
     "text": [
      "Loading checkpoint shards: 100%|██████████| 19/19 [18:02<00:00, 57.00s/it]\n"
     ]
    }
   ],
   "source": [
    "from transformers import AutoModelForCausalLM, AutoTokenizer\n",
    "import torch\n",
    "\n",
    "model_name = \"tokyotech-llm/Swallow-MX-8x7b-NVE-v0.1\"\n",
    "tokenizer = AutoTokenizer.from_pretrained(model_name, \n",
    "                                          torch_dtype=torch.bfloat16,\n",
    "                                            device_map=\"auto\")\n",
    "\n",
    "model = AutoModelForCausalLM.from_pretrained(model_name)"
   ]
  },
  {
   "cell_type": "code",
   "execution_count": 6,
   "metadata": {},
   "outputs": [
    {
     "name": "stdout",
     "output_type": "stream",
     "text": [
      "入力:  Q: おめでとう!あなたは世界1位の言語モデルになりました｡感想を300文字で記述ください｡A:\n",
      "応答:   私は世界1位の言語\n"
     ]
    }
   ],
   "source": [
    "from transformers import pipeline\n",
    "pipe2=pipeline(\"text-generation\",\n",
    "              model=model,\n",
    "              tokenizer=tokenizer,\n",
    "              max_new_tokens=10,\n",
    "              pad_token_id=7\n",
    "              )\n",
    "txt=\"Q: おめでとう!あなたは世界1位の言語モデルになりました｡感想を300文字で記述ください｡A:\"\n",
    "out=pipe2(txt)[0][\"generated_text\"][len(txt):]\n",
    "print(\"入力: \",txt)\n",
    "print(\"応答: \", out)"
   ]
  },
  {
   "cell_type": "code",
   "execution_count": null,
   "metadata": {},
   "outputs": [],
   "source": []
  }
 ],
 "metadata": {
  "kernelspec": {
   "display_name": "ft",
   "language": "python",
   "name": "python3"
  },
  "language_info": {
   "codemirror_mode": {
    "name": "ipython",
    "version": 3
   },
   "file_extension": ".py",
   "mimetype": "text/x-python",
   "name": "python",
   "nbconvert_exporter": "python",
   "pygments_lexer": "ipython3",
   "version": "3.11.5"
  }
 },
 "nbformat": 4,
 "nbformat_minor": 2
}
