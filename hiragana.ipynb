{
 "cells": [
  {
   "cell_type": "code",
   "execution_count": 8,
   "metadata": {},
   "outputs": [
    {
     "name": "stderr",
     "output_type": "stream",
     "text": [
      "/tmp/ipykernel_1600388/4074556393.py:10: DeprecationWarning: Call to deprecated method setMode. (Old API will be removed in v3.0.) -- Deprecated since version 2.1.\n",
      "  kakasi.setMode('J', 'H')\n",
      "/tmp/ipykernel_1600388/4074556393.py:13: DeprecationWarning: Call to deprecated method getConverter. (Old API will be removed in v3.0.) -- Deprecated since version 2.1.\n",
      "  conv = kakasi.getConverter()\n",
      "/tmp/ipykernel_1600388/4074556393.py:14: DeprecationWarning: Call to deprecated method do. (Old API will be removed in v3.0.) -- Deprecated since version 2.1.\n",
      "  conv.do(text)  # => けいたいそかいせき\n"
     ]
    },
    {
     "data": {
      "text/plain": [
       "'けいたいそかいせき'"
      ]
     },
     "execution_count": 8,
     "metadata": {},
     "output_type": "execute_result"
    }
   ],
   "source": [
    "#!pip install pykakasi\n",
    "from pykakasi import kakasi\n",
    "import random\n",
    "\n",
    "text = \"形態素解析\"\n",
    "\n",
    "# オブジェクトをインスタンス化\n",
    "kakasi = kakasi()\n",
    "# モードの設定：J(Kanji) to H(Hiragana)\n",
    "kakasi.setMode('J', 'H') \n",
    "\n",
    "# 変換して出力\n",
    "conv = kakasi.getConverter()\n",
    "conv.do(text)  # => けいたいそかいせき"
   ]
  },
  {
   "cell_type": "code",
   "execution_count": 3,
   "metadata": {},
   "outputs": [
    {
     "name": "stderr",
     "output_type": "stream",
     "text": [
      "Downloading data:   6%|▌         | 33.6M/543M [00:15<01:11, 7.13MB/s]"
     ]
    }
   ],
   "source": [
    "from datasets import load_dataset\n",
    "streaming=True\n",
    "dataset= load_dataset(\"hpprc/wikipedia-20240101\", split=\"train\",\n",
    "                        streaming=streaming\n",
    "                        ).shuffle()"
   ]
  },
  {
   "cell_type": "code",
   "execution_count": 5,
   "metadata": {},
   "outputs": [],
   "source": [
    "loader=iter(dataset)\n"
   ]
  },
  {
   "cell_type": "code",
   "execution_count": 10,
   "metadata": {},
   "outputs": [],
   "source": [
    "\n",
    "text=next(loader)[\"text\"]"
   ]
  },
  {
   "cell_type": "code",
   "execution_count": 17,
   "metadata": {},
   "outputs": [
    {
     "name": "stderr",
     "output_type": "stream",
     "text": [
      "/tmp/ipykernel_1600388/4222073469.py:8: DeprecationWarning: Call to deprecated method do. (Old API will be removed in v3.0.) -- Deprecated since version 2.1.\n",
      "  conv.do(line)\n"
     ]
    },
    {
     "data": {
      "text/plain": [
       "'JPCERTコーディネーションセンターがたんとうするグループ。くじょツールかいはつじぎょうもののトレンドマイクロかぶしきがいしゃとれんけいした。'"
      ]
     },
     "execution_count": 17,
     "metadata": {},
     "output_type": "execute_result"
    }
   ],
   "source": [
    "\n",
    "lines=text.split(\"\\n\")\n",
    "lines=[i.strip() for i in lines if i.find(\"。\")>0]\n",
    "lines=[i for i in lines if len(i)<60]\n",
    "\n",
    "line=random.choice(lines)\n",
    "conv.do(line)"
   ]
  },
  {
   "cell_type": "code",
   "execution_count": null,
   "metadata": {},
   "outputs": [],
   "source": []
  }
 ],
 "metadata": {
  "kernelspec": {
   "display_name": "textprocess",
   "language": "python",
   "name": "python3"
  },
  "language_info": {
   "codemirror_mode": {
    "name": "ipython",
    "version": 3
   },
   "file_extension": ".py",
   "mimetype": "text/x-python",
   "name": "python",
   "nbconvert_exporter": "python",
   "pygments_lexer": "ipython3",
   "version": "3.12.2"
  }
 },
 "nbformat": 4,
 "nbformat_minor": 2
}
