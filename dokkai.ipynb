{
 "cells": [
  {
   "cell_type": "code",
   "execution_count": 4,
   "metadata": {},
   "outputs": [],
   "source": [
    "from datasets import load_dataset\n",
    "ds=load_dataset('khalidalt/tydiqa-goldp',\n",
    "                \"japanese\",\n",
    "                #language=\"japanese\",\n",
    "                split=\"train\",\n",
    "                streaming=True)    \n",
    "\n"
   ]
  },
  {
   "cell_type": "code",
   "execution_count": 6,
   "metadata": {},
   "outputs": [],
   "source": [
    "loader=iter(ds)"
   ]
  },
  {
   "cell_type": "code",
   "execution_count": 13,
   "metadata": {},
   "outputs": [],
   "source": [
    "import random\n",
    "\n",
    "\n",
    "q_list=[]\n",
    "a_list=[]\n",
    "\n",
    "n_problems=10\n",
    "for i in range(n_problems):\n",
    "\n",
    "    d=next(loader)\n",
    "\n",
    "    a=d[\"answers\"][\"text\"][0]\n",
    "    text=d[\"passage_text\"]\n",
    "    q=d[\"question_text\"]\n",
    "\n",
    "\n",
    "    #作文\n",
    "    inst=random.choice([\"質問　\",\"問い：　\",\"質問：　\",\"問い　\",\"問題：　\",\"問題　\",\"\"])\n",
    "    q_text=text+\"\\n\"+inst+q\n",
    "\n",
    "    q_list.append(q_text)\n",
    "    a_list.append(a)"
   ]
  },
  {
   "cell_type": "code",
   "execution_count": 15,
   "metadata": {},
   "outputs": [
    {
     "data": {
      "text/plain": [
       "['桝太一（日本テレビアナウンサー）と関根麻里',\n",
       " '懲役2年・執行猶予5年',\n",
       " 'ラーデン＝ヴェーエのボック風車',\n",
       " '大阪市',\n",
       " '1916年',\n",
       " '1981年8月8日',\n",
       " '1924年6月18日',\n",
       " '572km2',\n",
       " '3.5m',\n",
       " '2002年']"
      ]
     },
     "execution_count": 15,
     "metadata": {},
     "output_type": "execute_result"
    }
   ],
   "source": [
    "a_list"
   ]
  },
  {
   "cell_type": "code",
   "execution_count": null,
   "metadata": {},
   "outputs": [],
   "source": []
  }
 ],
 "metadata": {
  "kernelspec": {
   "display_name": "textprocess",
   "language": "python",
   "name": "python3"
  },
  "language_info": {
   "codemirror_mode": {
    "name": "ipython",
    "version": 3
   },
   "file_extension": ".py",
   "mimetype": "text/x-python",
   "name": "python",
   "nbconvert_exporter": "python",
   "pygments_lexer": "ipython3",
   "version": "3.12.2"
  }
 },
 "nbformat": 4,
 "nbformat_minor": 2
}
