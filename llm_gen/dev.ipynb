{
 "cells": [
  {
   "cell_type": "code",
   "execution_count": 16,
   "metadata": {},
   "outputs": [
    {
     "name": "stderr",
     "output_type": "stream",
     "text": [
      "Loading checkpoint shards: 100%|██████████| 3/3 [00:14<00:00,  4.68s/it]\n"
     ]
    }
   ],
   "source": [
    "\n",
    "import torch\n",
    "from transformers import AutoTokenizer, AutoModelForCausalLM,pipeline\n",
    "tokenizer = AutoTokenizer.from_pretrained(\"llm-jp/llm-jp-13b-instruct-full-jaster-v1.0\")\n",
    "model = AutoModelForCausalLM.from_pretrained(\"llm-jp/llm-jp-13b-instruct-full-jaster-v1.0\", device_map=\"auto\",\n",
    "                                              torch_dtype=torch.float16)\n"
   ]
  },
  {
   "cell_type": "code",
   "execution_count": 23,
   "metadata": {},
   "outputs": [],
   "source": [
    "pipe=pipeline(\"text-generation\",\n",
    "              model=model,\n",
    "              tokenizer=tokenizer,\n",
    "              max_new_tokens=1,\n",
    "              )"
   ]
  },
  {
   "cell_type": "code",
   "execution_count": 24,
   "metadata": {},
   "outputs": [],
   "source": [
    "instruction=\"日本語の文ペアの意味がどのくらい近いかを判定し、類似度を0.0〜5.0までの間の値で付与してください。0.0に近いほど文ペアの意味が異なり、5.0に近いほど文ペアの意味が似ていることを表しています。整数値のみを返し、それ以外には何も含めないことを厳守してください。\"\n",
    "t1=\"\"\n",
    "t2=\"\"\n",
    "problem=\"文1：レンガの建物の前を、乳母車を押した女性が歩いています。\\n文2：厩舎で馬と女性とが寄り添っています。\"\n",
    "problem_template=\"文1：{t1}\\n文2：{t2}\""
   ]
  },
  {
   "cell_type": "code",
   "execution_count": 32,
   "metadata": {},
   "outputs": [],
   "source": [
    "txt=\"指示:\" +instruction+\"\\n入力: \"+ problem+\"\\n出力: \"\n"
   ]
  },
  {
   "cell_type": "code",
   "execution_count": null,
   "metadata": {},
   "outputs": [],
   "source": []
  },
  {
   "cell_type": "code",
   "execution_count": 39,
   "metadata": {},
   "outputs": [],
   "source": []
  },
  {
   "cell_type": "code",
   "execution_count": 48,
   "metadata": {},
   "outputs": [
    {
     "data": {
      "text/html": [
       "<div>\n",
       "<style scoped>\n",
       "    .dataframe tbody tr th:only-of-type {\n",
       "        vertical-align: middle;\n",
       "    }\n",
       "\n",
       "    .dataframe tbody tr th {\n",
       "        vertical-align: top;\n",
       "    }\n",
       "\n",
       "    .dataframe thead th {\n",
       "        text-align: right;\n",
       "    }\n",
       "</style>\n",
       "<table border=\"1\" class=\"dataframe\">\n",
       "  <thead>\n",
       "    <tr style=\"text-align: right;\">\n",
       "      <th></th>\n",
       "      <th>label</th>\n",
       "      <th>sentence1</th>\n",
       "      <th>sentence2</th>\n",
       "    </tr>\n",
       "  </thead>\n",
       "  <tbody>\n",
       "    <tr>\n",
       "      <th>217931</th>\n",
       "      <td>entailment</td>\n",
       "      <td>セメントミキサーの横にある外に立っているブロンドの髪と白人男性。</td>\n",
       "      <td>白人は外にいます。</td>\n",
       "    </tr>\n",
       "    <tr>\n",
       "      <th>287348</th>\n",
       "      <td>neutral</td>\n",
       "      <td>リムジンの前の歩道で２人がキスをしている間、人々は通り過ぎます。</td>\n",
       "      <td>二人は付き合っています</td>\n",
       "    </tr>\n",
       "    <tr>\n",
       "      <th>399952</th>\n",
       "      <td>neutral</td>\n",
       "      <td>大観衆の前でゲームをするサッカー選手。</td>\n",
       "      <td>サッカー選手は、売り切れの観客の前で世界選手権でプレーします。</td>\n",
       "    </tr>\n",
       "    <tr>\n",
       "      <th>56218</th>\n",
       "      <td>neutral</td>\n",
       "      <td>葉っぱの巨大な山からカメラを覗く二人の少女。</td>\n",
       "      <td>女の子はカメラに微笑んでいます。</td>\n",
       "    </tr>\n",
       "    <tr>\n",
       "      <th>48702</th>\n",
       "      <td>contradiction</td>\n",
       "      <td>ひげを生やした男が動物園でクマと寄り添います。</td>\n",
       "      <td>ひげを生やした男がボートに横たわっています。</td>\n",
       "    </tr>\n",
       "    <tr>\n",
       "      <th>...</th>\n",
       "      <td>...</td>\n",
       "      <td>...</td>\n",
       "      <td>...</td>\n",
       "    </tr>\n",
       "    <tr>\n",
       "      <th>118647</th>\n",
       "      <td>entailment</td>\n",
       "      <td>懐中電灯を頭につけた男は、針金のついたローリングケースに手を入れています。</td>\n",
       "      <td>男は暗い場所にいます。</td>\n",
       "    </tr>\n",
       "    <tr>\n",
       "      <th>123458</th>\n",
       "      <td>neutral</td>\n",
       "      <td>カーニバルは、青いスウェットパンツを着て、チョークで塗られた黒いタンクトップをテントの外に立...</td>\n",
       "      <td>労働者は彼のシフト後に休んでいます</td>\n",
       "    </tr>\n",
       "    <tr>\n",
       "      <th>488129</th>\n",
       "      <td>contradiction</td>\n",
       "      <td>若い女の子が本から絵をコピーして絵を描く練習をしています。</td>\n",
       "      <td>古い僧ｅｓｔは、本から絵をコピーして絵を描きます。</td>\n",
       "    </tr>\n",
       "    <tr>\n",
       "      <th>10364</th>\n",
       "      <td>entailment</td>\n",
       "      <td>暗褐色の犬が急速に揺れています。</td>\n",
       "      <td>犬が揺れます。</td>\n",
       "    </tr>\n",
       "    <tr>\n",
       "      <th>27744</th>\n",
       "      <td>neutral</td>\n",
       "      <td>スナックやソーダを販売するストリートベンダー。</td>\n",
       "      <td>ベンダーは、メキシコのストリートフードを安く販売しています。</td>\n",
       "    </tr>\n",
       "  </tbody>\n",
       "</table>\n",
       "<p>533004 rows × 3 columns</p>\n",
       "</div>"
      ],
      "text/plain": [
       "                label                                          sentence1  \\\n",
       "217931     entailment                   セメントミキサーの横にある外に立っているブロンドの髪と白人男性。   \n",
       "287348        neutral                   リムジンの前の歩道で２人がキスをしている間、人々は通り過ぎます。   \n",
       "399952        neutral                                大観衆の前でゲームをするサッカー選手。   \n",
       "56218         neutral                             葉っぱの巨大な山からカメラを覗く二人の少女。   \n",
       "48702   contradiction                            ひげを生やした男が動物園でクマと寄り添います。   \n",
       "...               ...                                                ...   \n",
       "118647     entailment              懐中電灯を頭につけた男は、針金のついたローリングケースに手を入れています。   \n",
       "123458        neutral  カーニバルは、青いスウェットパンツを着て、チョークで塗られた黒いタンクトップをテントの外に立...   \n",
       "488129  contradiction                      若い女の子が本から絵をコピーして絵を描く練習をしています。   \n",
       "10364      entailment                                   暗褐色の犬が急速に揺れています。   \n",
       "27744         neutral                            スナックやソーダを販売するストリートベンダー。   \n",
       "\n",
       "                              sentence2  \n",
       "217931                        白人は外にいます。  \n",
       "287348                      二人は付き合っています  \n",
       "399952  サッカー選手は、売り切れの観客の前で世界選手権でプレーします。  \n",
       "56218                  女の子はカメラに微笑んでいます。  \n",
       "48702            ひげを生やした男がボートに横たわっています。  \n",
       "...                                 ...  \n",
       "118647                      男は暗い場所にいます。  \n",
       "123458                労働者は彼のシフト後に休んでいます  \n",
       "488129        古い僧ｅｓｔは、本から絵をコピーして絵を描きます。  \n",
       "10364                           犬が揺れます。  \n",
       "27744    ベンダーは、メキシコのストリートフードを安く販売しています。  \n",
       "\n",
       "[533004 rows x 3 columns]"
      ]
     },
     "execution_count": 48,
     "metadata": {},
     "output_type": "execute_result"
    }
   ],
   "source": [
    "import pandas as pd\n",
    "df=pd.read_csv(\"../datasets/JSNLI_train.tsv\",sep=\"\\t\",\n",
    "              )\n",
    "df.columns=[\"label\",\"sentence1\",\"sentence2\"]\n",
    "df[\"sentence1\"]=df[\"sentence1\"].str.replace(\" \",\"\")\n",
    "df[\"sentence2\"]=df[\"sentence2\"].str.replace(\" \",\"\")\n",
    "\n",
    "#shuffle dataframe\n",
    "df=df.sample(frac=1)\n",
    "df"
   ]
  },
  {
   "cell_type": "code",
   "execution_count": 49,
   "metadata": {},
   "outputs": [
    {
     "data": {
      "text/plain": [
       "array(['entailment', 'セメントミキサーの横にある外に立っているブロンドの髪と白人男性。', '白人は外にいます。'],\n",
       "      dtype=object)"
      ]
     },
     "execution_count": 49,
     "metadata": {},
     "output_type": "execute_result"
    }
   ],
   "source": [
    "loader=iter(df.values)\n",
    "next(loader)"
   ]
  },
  {
   "cell_type": "code",
   "execution_count": 50,
   "metadata": {},
   "outputs": [],
   "source": [
    "\n",
    "\n",
    "def eval(pipe,txt):\n",
    "    return pipe(txt)[0][\"generated_text\"][len(txt):]\n",
    "\n",
    "instruction=\"\"\"以下は、タスクを説明する指示と、文脈のある入力の組み合わせです。要求を適切に満たす応答を書きなさい。\n",
    "###指示 日本語の文ペアの意味がどのくらい近いかを判定し、類似度を0.0〜5.0までの間の値で付与してください。0.0に近いほど文ペアの意味が異なり、5.0に近いほど文ペアの意味が似ていることを表しています。整数値のみを返し、それ以外には何も含めないことを厳守してください。\"\"\"\n",
    "def make_problem(t1,t2):\n",
    "    problem=f\"文1：{t1}\\n文2：{t2}\"\n",
    "    txt=instruction+\"\\n\"+ problem+\"\\n\\n###応答: \\n\"\n",
    "    return txt"
   ]
  },
  {
   "cell_type": "code",
   "execution_count": 52,
   "metadata": {},
   "outputs": [
    {
     "name": "stderr",
     "output_type": "stream",
     "text": [
      "Setting `pad_token_id` to `eos_token_id`:7 for open-end generation.\n",
      "Setting `pad_token_id` to `eos_token_id`:7 for open-end generation.\n",
      "Setting `pad_token_id` to `eos_token_id`:7 for open-end generation.\n",
      "Setting `pad_token_id` to `eos_token_id`:7 for open-end generation.\n",
      "Setting `pad_token_id` to `eos_token_id`:7 for open-end generation.\n",
      "Setting `pad_token_id` to `eos_token_id`:7 for open-end generation.\n"
     ]
    },
    {
     "name": "stdout",
     "output_type": "stream",
     "text": [
      "2 岩の山の近くの芝生の上に立っている白い犬と空気中のジャンプ黒犬。 黒犬はフリスビーを捕まえています。\n",
      "1 カラフルな服を着た女の子が、ベッドの上でカラーブロックのキルトでジャンプしています。 女の子は屋内にいます。\n",
      "0 男が雪の丘を滑り降ります。 男はビーチに横たわっています。\n",
      "2 オレンジ色のバスケットボール選手がボールを持ち、青と白の３人が防御します。 人々はバスケットボールをしています。\n",
      "2 中規模の部屋で人々のグループを講義する男。 人々は講義を聞くことを楽しんでいます。\n",
      "1 帽子をかぶった年配の男性が右を向くテントの下に座っています。 男はキャンプしています\n"
     ]
    },
    {
     "name": "stderr",
     "output_type": "stream",
     "text": [
      "Setting `pad_token_id` to `eos_token_id`:7 for open-end generation.\n",
      "Setting `pad_token_id` to `eos_token_id`:7 for open-end generation.\n",
      "Setting `pad_token_id` to `eos_token_id`:7 for open-end generation.\n",
      "Setting `pad_token_id` to `eos_token_id`:7 for open-end generation.\n",
      "Setting `pad_token_id` to `eos_token_id`:7 for open-end generation.\n",
      "Setting `pad_token_id` to `eos_token_id`:7 for open-end generation.\n"
     ]
    },
    {
     "name": "stdout",
     "output_type": "stream",
     "text": [
      "0 果物、野菜、花のあるカラフルな屋外市場の人々。 人々は屋内ショッピングモールにいます。\n",
      "1 マスコミからインタビューを受けているアラブの女性。 インタビューされた背の高い人間\n",
      "2 路地でサッカーをしている子供。 子供は彼がチームを作ることができるように彼のサッカーのスキルを練習しています\n",
      "0 自転車に乗った男が通りを下っていき、男が歩道の上に縞模様のシャツを着て立っていて、その上にオレンジ色の円錐形の看板の写真を撮っている。 二人とも道をスケートボードに乗っています。\n",
      "2 数人がレストランで屋外で食事をしています。 誕生日パーティーのために外で食べる人々のグループ\n"
     ]
    },
    {
     "name": "stderr",
     "output_type": "stream",
     "text": [
      "Setting `pad_token_id` to `eos_token_id`:7 for open-end generation.\n",
      "Setting `pad_token_id` to `eos_token_id`:7 for open-end generation.\n",
      "Setting `pad_token_id` to `eos_token_id`:7 for open-end generation.\n",
      "Setting `pad_token_id` to `eos_token_id`:7 for open-end generation.\n",
      "Setting `pad_token_id` to `eos_token_id`:7 for open-end generation.\n"
     ]
    },
    {
     "name": "stdout",
     "output_type": "stream",
     "text": [
      "1 折りたたみ椅子で満たされた大きな部屋で動き回る人々のグループ。 部屋で話している人々のグループ\n",
      "2 野球帽をかぶった明るい緑のシャツを着た男性は、木を切り倒している。 男は木を刈って、自分の所有物に落ちないようにします。\n",
      "0 青いシャツを着た男が黄色い物を蹴り、他の生徒がバックグラウンドで空手を練習しています。 女性が男性を撃ちます。\n",
      "1 小さな子供たちは干し草をワイヤーフェンスの上で茶色の馬に向かって投げます。 唯一の馬に餌をやる２人の兄弟。\n",
      "1 大勢の人がフレーム外の何かを見て、一人の男が写真を撮ります。 男はカメラを持っています。\n",
      "0 緑の靴、赤いショートパンツ、青い帽子とシャツを着た子供が一続きの歩道に立っています。 犬がゴミ箱から食べています。\n"
     ]
    },
    {
     "name": "stderr",
     "output_type": "stream",
     "text": [
      "Setting `pad_token_id` to `eos_token_id`:7 for open-end generation.\n",
      "Setting `pad_token_id` to `eos_token_id`:7 for open-end generation.\n",
      "Setting `pad_token_id` to `eos_token_id`:7 for open-end generation.\n",
      "Setting `pad_token_id` to `eos_token_id`:7 for open-end generation.\n",
      "Setting `pad_token_id` to `eos_token_id`:7 for open-end generation.\n",
      "Setting `pad_token_id` to `eos_token_id`:7 for open-end generation.\n",
      "Setting `pad_token_id` to `eos_token_id`:7 for open-end generation.\n"
     ]
    },
    {
     "name": "stdout",
     "output_type": "stream",
     "text": [
      "1 娘と話し、孫と遊ぶ中年の男。 男は娘に孫よりも彼女を愛していると伝えようとしている\n",
      "2 他の２人の男の子と一緒にプールでサーフィンしようとする１０代のボット。 近所のプールで３人の男の子が一緒に泳いでいます。\n",
      "1 携帯電話で話している女性と男性が地下鉄の隣にあるスバロピザレストランの外に立っています。 女性は日本食レストランのそばに立っている間に誰かにテキストメッセージを送信しています。\n",
      "1 プロメテウスボードを使用して講義を行う女性。 大勢の人の前で話す人がいます。\n",
      "2 ショートパンツを着た男性と女性が、歩道に沿って綱で２匹の犬を散歩します。 男と女は犬をドッグパークに連れて行きます。\n",
      "1 プールでチームを装った１１人の少女。 プールでポーズの女の子\n"
     ]
    },
    {
     "name": "stderr",
     "output_type": "stream",
     "text": [
      "Setting `pad_token_id` to `eos_token_id`:7 for open-end generation.\n",
      "Setting `pad_token_id` to `eos_token_id`:7 for open-end generation.\n",
      "Setting `pad_token_id` to `eos_token_id`:7 for open-end generation.\n",
      "Setting `pad_token_id` to `eos_token_id`:7 for open-end generation.\n",
      "Setting `pad_token_id` to `eos_token_id`:7 for open-end generation.\n"
     ]
    },
    {
     "name": "stdout",
     "output_type": "stream",
     "text": [
      "0 男がピアノを弾き、白の女性が歌っている間、３人目の男が彼らを川に導きます。 物語の３人はソファで寝ています。\n",
      "1 緑の芝生で行われているサッカーの試合中の目標の試み。 ゴールキーパーは、試みられたゴールをブロックしています。\n",
      "0 デニムに身を包んだ少年が歩道を走っています。 女の子は歩道に座っていた。\n",
      "3 数人の個人が、赤いセーターを着た男性がゴルフをするのを見ています。 赤いセーターを着たプロゴルファーを見ている観客。\n",
      "3 円錐形の帽子をかぶったアジアの女性は、小さな滝の横で洗濯をします。 アジアの女性が洗濯物を洗っています。\n"
     ]
    },
    {
     "name": "stderr",
     "output_type": "stream",
     "text": [
      "Setting `pad_token_id` to `eos_token_id`:7 for open-end generation.\n",
      "Setting `pad_token_id` to `eos_token_id`:7 for open-end generation.\n",
      "Setting `pad_token_id` to `eos_token_id`:7 for open-end generation.\n",
      "Setting `pad_token_id` to `eos_token_id`:7 for open-end generation.\n",
      "Setting `pad_token_id` to `eos_token_id`:7 for open-end generation.\n",
      "Setting `pad_token_id` to `eos_token_id`:7 for open-end generation.\n"
     ]
    },
    {
     "name": "stdout",
     "output_type": "stream",
     "text": [
      "3 靴を脱いでいる男性が敷物の上にひざまずいています。 男が敷物の上にひざまずいている\n",
      "2 青いショートパンツと白いシャツの女性は屋内ロッククライミングです。 女性が中の偽の壁を登っている。\n",
      "2 犬は砂漠を歩いています。 犬は砂漠で走っています。\n",
      "2 海を背景にしたゴジラの像の前に立っている多くの人々。 多くの人々が海の近くで屋外に立っています。\n",
      "1 この子供は、初めてのダートバイクライドを楽しんでいます。 小さな男の子が真っ赤な土の自転車で急いでいます。\n",
      "1 人々のグループは、いくつかのボートの前のビーチに立っています。 複数のボートがあります。\n"
     ]
    },
    {
     "name": "stderr",
     "output_type": "stream",
     "text": [
      "Setting `pad_token_id` to `eos_token_id`:7 for open-end generation.\n",
      "Setting `pad_token_id` to `eos_token_id`:7 for open-end generation.\n",
      "Setting `pad_token_id` to `eos_token_id`:7 for open-end generation.\n",
      "Setting `pad_token_id` to `eos_token_id`:7 for open-end generation.\n",
      "Setting `pad_token_id` to `eos_token_id`:7 for open-end generation.\n",
      "Setting `pad_token_id` to `eos_token_id`:7 for open-end generation.\n"
     ]
    },
    {
     "name": "stdout",
     "output_type": "stream",
     "text": [
      "1 白い犬が水の上を走ります。 犬は大きいです。\n",
      "2 建設服の小さな男の子が両親と一緒に立っています。 少年が立っています\n",
      "2 路上のレースで赤いヘルメット、サングラス、青いスパンデックスの服を着ている自転車。 人が自転車でレースをしています。\n",
      "0 ２人の１０代の少年がプールに飛び込んでいます。 二人の女の子がラップを泳ぎます。\n",
      "0 緑の線形オブジェクトをいじる山高帽とマイクヘッドセットを持つ男。 野球帽の男が本を読んでいます。\n",
      "1 建物の外でバンドとして演奏する男性のグループ。 男性は建物内で演技しています。\n"
     ]
    },
    {
     "name": "stderr",
     "output_type": "stream",
     "text": [
      "Setting `pad_token_id` to `eos_token_id`:7 for open-end generation.\n",
      "Setting `pad_token_id` to `eos_token_id`:7 for open-end generation.\n",
      "Setting `pad_token_id` to `eos_token_id`:7 for open-end generation.\n",
      "Setting `pad_token_id` to `eos_token_id`:7 for open-end generation.\n",
      "Setting `pad_token_id` to `eos_token_id`:7 for open-end generation.\n",
      "Setting `pad_token_id` to `eos_token_id`:7 for open-end generation.\n"
     ]
    },
    {
     "name": "stdout",
     "output_type": "stream",
     "text": [
      "0 女性が浜辺の砂の中に座っています。 ビーチは暑い\n",
      "1 Ｓｏｏｎｅｒｓユニフォームのフットボール選手。 フットボール選手がスーツとネクタイを着ています。\n",
      "0 海岸に人がいる青と赤のボートがあるビーチ 人々は駅に立って電車を見ています。\n",
      "1 黒いシャツを着た女性がジーンズの男を抱いています。 女性は子供を抱いています。\n",
      "3 白い散歩をしている男性が、ドアに広告バナーのあるシャッター付きの建物を通り過ぎました。 白の男がシャッター付きの建物のそばを歩いています。\n",
      "1 薄緑色のジャケットを着た人は、屋外の公共エリアで多色の傘を持ちます。 雨が降りそうなため、男は傘を外に持って行きます。\n"
     ]
    },
    {
     "name": "stderr",
     "output_type": "stream",
     "text": [
      "Setting `pad_token_id` to `eos_token_id`:7 for open-end generation.\n",
      "Setting `pad_token_id` to `eos_token_id`:7 for open-end generation.\n",
      "Setting `pad_token_id` to `eos_token_id`:7 for open-end generation.\n",
      "Setting `pad_token_id` to `eos_token_id`:7 for open-end generation.\n",
      "Setting `pad_token_id` to `eos_token_id`:7 for open-end generation.\n"
     ]
    },
    {
     "name": "stdout",
     "output_type": "stream",
     "text": [
      "0 死んだ魚のいるカウンターの近くに３人が立っています。 ３人の女性が公園で議論します。\n",
      "3 毛布で覆われている間、昼寝をしている小さな赤ちゃん。 赤ちゃんが眠っています。\n",
      "2 青っぽいだぶだぶのショートパンツとストライプの野球帽をかぶったシャツを着て、草で覆われた山岳地帯の三脚にカメラを置いて写真を撮る子供。 子供が学校のプロジェクトのために山で写真を撮ります。\n",
      "2 彼女のシボレーバンに水を噴霧する緑のズボンを着ている女性。 女性が木にスプレー塗装しています。\n",
      "3 人はシャベルを使用して一生懸命働いています。 シャベルを使用している人。\n",
      "2 氷のような丘陵地帯をハイキングする人々。 人々はハイキングの経験があります。\n"
     ]
    },
    {
     "name": "stderr",
     "output_type": "stream",
     "text": [
      "Setting `pad_token_id` to `eos_token_id`:7 for open-end generation.\n",
      "Setting `pad_token_id` to `eos_token_id`:7 for open-end generation.\n",
      "Setting `pad_token_id` to `eos_token_id`:7 for open-end generation.\n",
      "Setting `pad_token_id` to `eos_token_id`:7 for open-end generation.\n",
      "Setting `pad_token_id` to `eos_token_id`:7 for open-end generation.\n",
      "Setting `pad_token_id` to `eos_token_id`:7 for open-end generation.\n",
      "Setting `pad_token_id` to `eos_token_id`:7 for open-end generation.\n"
     ]
    },
    {
     "name": "stdout",
     "output_type": "stream",
     "text": [
      "0 スキーブーツがスキーから引き出されます。 スノーボードが壊れています\n",
      "3 バンドは小さな観客に演奏します。 ジャズバンドが観客に演奏します。\n",
      "3 韓国の路上で、男は二輪カートを引っ張っており、椅子と段ボールなどで高く積まれていますが、彼の後ろには車とトラックと通りのビルボードがあります。 韓国の路上で男が椅子と段ボールでいっぱいのカートを引いています。\n",
      "1 フィールドで棒を持ちながらスポーツをする男性のグループ。 男性のグループがフィールドの外にいます。\n",
      "2 男と犬がフリスビーで遊ぶ。 人とペットは楽しい時間を過ごしています。\n",
      "1 池の岸に向かって泳ぐ黒と黄褐色の犬 犬は小さな男の子とフェッチを再生しています。\n"
     ]
    },
    {
     "name": "stderr",
     "output_type": "stream",
     "text": [
      "Setting `pad_token_id` to `eos_token_id`:7 for open-end generation.\n",
      "Setting `pad_token_id` to `eos_token_id`:7 for open-end generation.\n",
      "Setting `pad_token_id` to `eos_token_id`:7 for open-end generation.\n",
      "Setting `pad_token_id` to `eos_token_id`:7 for open-end generation.\n",
      "Setting `pad_token_id` to `eos_token_id`:7 for open-end generation.\n",
      "Setting `pad_token_id` to `eos_token_id`:7 for open-end generation.\n"
     ]
    },
    {
     "name": "stdout",
     "output_type": "stream",
     "text": [
      "0 黄色の男が地下道に散らばるゴミの中に立っています。 デートを探している女性\n",
      "1 サッカーの試合中に反対側のチームのメンバーにタックルを実行する若い守備のサッカー選手。 サッカーを使用している人がいます。\n",
      "0 食料品店内の魚屋の前に立っている青いバスケットを持った黒いコートを着た男。 女の子がブラウニーを焼く。\n",
      "2 バスケットボール選手がちょうどショットをして、転倒しています。 バスケットボール選手は転倒したときと同じように試合で勝利を収めます。\n",
      "2 手品を行う歩道アーティスト。 男はトリックを実行しています。\n",
      "2 山でスキーをする二人。 人々はスキーをしています\n"
     ]
    },
    {
     "name": "stderr",
     "output_type": "stream",
     "text": [
      "Setting `pad_token_id` to `eos_token_id`:7 for open-end generation.\n",
      "Setting `pad_token_id` to `eos_token_id`:7 for open-end generation.\n",
      "Setting `pad_token_id` to `eos_token_id`:7 for open-end generation.\n",
      "Setting `pad_token_id` to `eos_token_id`:7 for open-end generation.\n",
      "Setting `pad_token_id` to `eos_token_id`:7 for open-end generation.\n",
      "Setting `pad_token_id` to `eos_token_id`:7 for open-end generation.\n"
     ]
    },
    {
     "name": "stdout",
     "output_type": "stream",
     "text": [
      "0 屋根から太陽と影が降り注ぐベランダの人々のグループ。 人々は眠りの中にいます。\n",
      "1 ５人のバレエダンサーが、ダンススタジオでジャンプの途中で窓から差し込む日光を捉えました。 バレエダンサーは、今後のリサイタルのために練習しています\n",
      "2 犬は小さな男の子が投げたボールを求めて走ります。 子犬はおもちゃを追いかけます。\n",
      "1 おむつとシャツを着たかわいい赤ちゃんが土で遊ぶ。 写真の赤ちゃんが汚れている可能性があります。\n",
      "2 自転車のヘルメットとウォームアップスーツを着た女性が公園で瞑想している。 女性がヨガをしています。\n",
      "0 彼女の友人から贈られたプレゼントに興奮している老ｗｏｍａｎ。 コアラが木に登っています。\n"
     ]
    },
    {
     "name": "stderr",
     "output_type": "stream",
     "text": [
      "Setting `pad_token_id` to `eos_token_id`:7 for open-end generation.\n",
      "Setting `pad_token_id` to `eos_token_id`:7 for open-end generation.\n",
      "Setting `pad_token_id` to `eos_token_id`:7 for open-end generation.\n",
      "Setting `pad_token_id` to `eos_token_id`:7 for open-end generation.\n",
      "Setting `pad_token_id` to `eos_token_id`:7 for open-end generation.\n"
     ]
    },
    {
     "name": "stdout",
     "output_type": "stream",
     "text": [
      "0 犬が後ろ足で立ち、別の犬が見ています。 犬は実験室です\n",
      "3 ３人がカヤックをし、２人が互いに衝突しました。 カヤック中に二人が衝突した。\n",
      "0 公園のブランコに立っている子供。 子供が犬を散歩します\n",
      "0 ３人の男性の建設作業員がフィールドで何かを調べており、２人がシャベルを持っています。 家で２匹の犬が寝ています。\n",
      "2 帽子をかぶった男が目の前で果物を握っています。 バナナを食べる男。\n"
     ]
    },
    {
     "name": "stderr",
     "output_type": "stream",
     "text": [
      "Setting `pad_token_id` to `eos_token_id`:7 for open-end generation.\n",
      "Setting `pad_token_id` to `eos_token_id`:7 for open-end generation.\n",
      "Setting `pad_token_id` to `eos_token_id`:7 for open-end generation.\n",
      "Setting `pad_token_id` to `eos_token_id`:7 for open-end generation.\n",
      "Setting `pad_token_id` to `eos_token_id`:7 for open-end generation.\n",
      "Setting `pad_token_id` to `eos_token_id`:7 for open-end generation.\n"
     ]
    },
    {
     "name": "stdout",
     "output_type": "stream",
     "text": [
      "0 若い女性は別の若い女性の顔を屋外でペイントします。 女性はケーキを焼いています。\n",
      "3 毛布にくるまれた赤ちゃんが眠ります。 赤ちゃんが寝ています。\n",
      "1 男性がボトルを保持している赤いドレスを着て座っている女性の大きな法令の近くの地面に砂を置いています。 男性がドレスを着た女性の大きな像の近くで宗教儀式を行っています。\n",
      "4 泥でＡＴＶに乗る男。 泥でＡＴＶに乗る人。\n",
      "3 ハーネスに赤ちゃんを乗せた赤毛の女性。 金髪の女性は赤ちゃんを抱いています。\n",
      "3 袋を運ぶ２人が一緒に歩きます。 二人が袋を運んで通りを歩いています。\n"
     ]
    },
    {
     "name": "stderr",
     "output_type": "stream",
     "text": [
      "Setting `pad_token_id` to `eos_token_id`:7 for open-end generation.\n",
      "Setting `pad_token_id` to `eos_token_id`:7 for open-end generation.\n",
      "Setting `pad_token_id` to `eos_token_id`:7 for open-end generation.\n",
      "Setting `pad_token_id` to `eos_token_id`:7 for open-end generation.\n",
      "Setting `pad_token_id` to `eos_token_id`:7 for open-end generation.\n",
      "Setting `pad_token_id` to `eos_token_id`:7 for open-end generation.\n"
     ]
    },
    {
     "name": "stdout",
     "output_type": "stream",
     "text": [
      "2 新聞を読む赤いフランネルを着た男。 男はいつも小説を読むために彼の赤いフランネルを着ています。\n",
      "3 雨の中で家に歩いている２人の男の子。 雨の中で二人の少年がキャッチをしている。\n",
      "1 素敵なズボン、ベルト、ネクタイを持つ少年は階段から飛び降りています 汚れた服を着た年上の少年が階段で遊んだ。\n",
      "3 ３人が大きな機械を通りに押しています。 数人の人が外で機械を動かしています。\n",
      "0 カキパンツを着た上半身裸の少年が沼にひざまずいており、誰かが近くで水しぶきを上げています。 フェアでは観覧車に２人が乗っています。\n",
      "0 乱雑な家のフィットネスマシン上の女性。 女性がうまくいく\n"
     ]
    },
    {
     "name": "stderr",
     "output_type": "stream",
     "text": [
      "Setting `pad_token_id` to `eos_token_id`:7 for open-end generation.\n",
      "Setting `pad_token_id` to `eos_token_id`:7 for open-end generation.\n",
      "Setting `pad_token_id` to `eos_token_id`:7 for open-end generation.\n",
      "Setting `pad_token_id` to `eos_token_id`:7 for open-end generation.\n",
      "Setting `pad_token_id` to `eos_token_id`:7 for open-end generation.\n",
      "Setting `pad_token_id` to `eos_token_id`:7 for open-end generation.\n"
     ]
    },
    {
     "name": "stdout",
     "output_type": "stream",
     "text": [
      "2 赤いシャツを着た男がトレイルバイクを修理するのを助ける青いシャツを着た男 赤いシャツを着た男が車を修理するのを助ける青いシャツを着た男。\n",
      "2 デスクで仕事をしている男性が眠りに落ちる。 従業員が眠ろうとしています\n",
      "0 ロープからぶら下がっている壊れやすいボールを観察する青いシャツを着た少年。 誰もシャツを持っていません。\n",
      "4 誰かが犬を歩いています。 人が犬を歩いています。\n",
      "3 茶色の犬が黒と白の犬に飛びついています。 大きな犬が黒と白の犬に飛びついています。\n",
      "2 ２人の女性が水の横に立ち、使い捨てカメラで写真を撮ります。 女性は水の近くにいます。\n"
     ]
    },
    {
     "name": "stderr",
     "output_type": "stream",
     "text": [
      "Setting `pad_token_id` to `eos_token_id`:7 for open-end generation.\n",
      "Setting `pad_token_id` to `eos_token_id`:7 for open-end generation.\n",
      "Setting `pad_token_id` to `eos_token_id`:7 for open-end generation.\n",
      "Setting `pad_token_id` to `eos_token_id`:7 for open-end generation.\n",
      "Setting `pad_token_id` to `eos_token_id`:7 for open-end generation.\n",
      "Setting `pad_token_id` to `eos_token_id`:7 for open-end generation.\n"
     ]
    },
    {
     "name": "stdout",
     "output_type": "stream",
     "text": [
      "1 長髪の男がビーチの写真を撮っている。 カメラを持った男。\n",
      "0 赤い花を保持しているウェディングドレスの女性。 女性が作業服を着てケンタッキー州にリンゴの木を植えています。\n",
      "0 群衆は男がサーフィンするのを見ています。 群衆は泣いています。\n",
      "2 中東の市場では自家製の食品を販売しています。 市場は食料を販売しています。\n",
      "1 がんサバイバーは治療のために競います。 がんサバイバーが昼寝をしている\n",
      "1 帆をあげる５人 帆を上げる太った人間\n",
      "1 淡い日焼けした犬は、口の外側に棒を持っています。 紫の犬が草の中に座っています。\n"
     ]
    }
   ],
   "source": [
    "n_problems=100\n",
    "problem_list=[]\n",
    "for i in range(n_problems):\n",
    "    d=next(loader)\n",
    "    s1=d[1]\n",
    "    s2=d[2]\n",
    "\n",
    "    text=make_problem(s1,s2)\n",
    "    score=eval(pipe,text)\n",
    "\n",
    "    print(score,s1,s2)"
   ]
  },
  {
   "cell_type": "code",
   "execution_count": 35,
   "metadata": {},
   "outputs": [
    {
     "data": {
      "text/plain": [
       "'1'"
      ]
     },
     "execution_count": 35,
     "metadata": {},
     "output_type": "execute_result"
    }
   ],
   "source": [
    "score"
   ]
  },
  {
   "cell_type": "code",
   "execution_count": null,
   "metadata": {},
   "outputs": [],
   "source": []
  }
 ],
 "metadata": {
  "kernelspec": {
   "display_name": "ft",
   "language": "python",
   "name": "python3"
  },
  "language_info": {
   "codemirror_mode": {
    "name": "ipython",
    "version": 3
   },
   "file_extension": ".py",
   "mimetype": "text/x-python",
   "name": "python",
   "nbconvert_exporter": "python",
   "pygments_lexer": "ipython3",
   "version": "3.11.5"
  }
 },
 "nbformat": 4,
 "nbformat_minor": 2
}
