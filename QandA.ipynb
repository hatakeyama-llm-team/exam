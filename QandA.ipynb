{
 "cells": [
  {
   "cell_type": "code",
   "execution_count": 1,
   "metadata": {},
   "outputs": [],
   "source": [
    "# Q and A dataset\n",
    "%load_ext autoreload\n",
    "%autoreload 2"
   ]
  },
  {
   "cell_type": "code",
   "execution_count": 2,
   "metadata": {},
   "outputs": [
    {
     "name": "stdout",
     "output_type": "stream",
     "text": [
      "13061\n"
     ]
    }
   ],
   "source": [
    "import json\n",
    "#jsonlを読み込む\n",
    "path=\"data/train_questions.json\"\n",
    "problem_list=[]\n",
    "with open(path, 'r') as f:\n",
    "    for line in f:\n",
    "        problem_list.append(json.loads(line))\n",
    "\n",
    "loader=iter(problem_list)\n",
    "print(len(problem_list))"
   ]
  },
  {
   "cell_type": "code",
   "execution_count": 3,
   "metadata": {},
   "outputs": [],
   "source": [
    "inst_lines=\"\"\"質問に回答し、選ばれた答えを選択肢の番号を出力指定してください。答える際には数値のみを返してください。\n",
    "答えを選択肢のインデックスで選んでください。返す値は整数型の数値だけにすること。\n",
    "入力された質問とそれに対する選択肢から、選択する答えを番号で出力してください。返答はint型の数字のみが許されます。\n",
    "選んだ答えをその選択肢の番号で示してください。\n",
    "質問と選択肢を基に、答えを選択し、その番号を返してください。返すべきは整数のみです。\n",
    "選んだ答えの番号をint型で指定して返してください。\n",
    "入力された質問と選択肢にもとづいて、答えを選択肢の番号で選び、整数型で返してください。\n",
    "受け取った質問と選択肢に沿って、答えを番号で指定し、それを整数型でのみ返してください。\n",
    "質問に回答して。出力は数値のみを返すこと\n",
    "質問に答えてください。答えは数値のみで返してください。\n",
    "質問に対して答えを選んでください。答えは数値のみで返してください。\n",
    "質問に回答し、選択肢の番号を返してください。答えは数値のみで返してください。\"\"\"\n",
    "\n"
   ]
  },
  {
   "cell_type": "code",
   "execution_count": 4,
   "metadata": {},
   "outputs": [],
   "source": [
    "import random\n",
    "from src.utils import random_text_select,random_toi,random_sentakushi,write_jsonl\n",
    "#５択問題を作る\n",
    "n_problems=6500\n",
    "\n",
    "problem_list=[]\n",
    "\n",
    "for i in range(n_problems):\n",
    "    problem=next(loader)\n",
    "    q=problem[\"question\"]\n",
    "    a=problem[\"answer_candidates\"][0]\n",
    "    instruction=random_text_select(inst_lines)\n",
    "    other_choices=random.sample(problem[\"answer_candidates\"][1:], 4)\n",
    "\n",
    "    ans_id=random.randint(0,4)\n",
    "    choices=other_choices[:ans_id]+[a]+other_choices[ans_id:]\n",
    "\n",
    "    #作文\n",
    "    inst=random_toi()\n",
    "    q_text=inst+q\n",
    "\n",
    "    choice_text=\"\"\n",
    "    sep1=random.choice([\".\",\":\"])\n",
    "    sep2=random.choice([\",\",\" \",\"\\n\"])\n",
    "    for i,choice in enumerate(choices):\n",
    "        choice_text+=str(i)+sep1+choice+sep2\n",
    "\n",
    "    choice_text=choice_text[:-1]\n",
    "    choice_text\n",
    "    q_text+=\"\\n\"+random_sentakushi()+choice_text\n",
    "\n",
    "    d={\n",
    "        \"instruction\":instruction,\n",
    "        \"question\":q_text,\n",
    "        \"answer\":str(ans_id)\n",
    "    }\n",
    "    problem_list.append(d)"
   ]
  },
  {
   "cell_type": "code",
   "execution_count": 5,
   "metadata": {},
   "outputs": [],
   "source": [
    "write_jsonl(problem_list,\"data/jsonl/multichoice_qa.jsonl\")"
   ]
  },
  {
   "cell_type": "code",
   "execution_count": 6,
   "metadata": {},
   "outputs": [],
   "source": [
    "#単語を答えるタイプの問題"
   ]
  },
  {
   "cell_type": "code",
   "execution_count": 7,
   "metadata": {},
   "outputs": [],
   "source": [
    "inst_lines=\"\"\"次の質問に回答してください。それ以外のことは書かないでください。\n",
    "以下の質問に答えてください。回答のみを出力することを厳守\n",
    "次の質問への回答を生成。回答のみを記載してください。\n",
    "質問に対する答えを教えて。余計なことは一切書かないで。\n",
    "回答以外何も書かずに、この質問に答えて\n",
    "この質問に答えてください。他のことは記載しないでください。\n",
    "次の質問に答えてください。他は何も書かないよう、厳守をお願いします。\n",
    "この質問に答えて。それ以外のことは記載しないで。\n",
    "下記の質問に対する回答をお願いします。回答以外は何も書かないことを厳守すること。\"\"\"\n",
    "\n",
    "\n",
    "problem_list=[]\n",
    "for i in range(n_problems):\n",
    "    problem=next(loader)\n",
    "    q=problem[\"question\"]\n",
    "    a=problem[\"answer_candidates\"][0]\n",
    "\n",
    "    #作文\n",
    "    q_text=random_toi()+q\n",
    "    d={\n",
    "        \"instruction\":random_text_select(inst_lines),\n",
    "        \"question\":q_text,\n",
    "        \"answer\":a\n",
    "    }\n",
    "    problem_list.append(d)\n",
    "write_jsonl(problem_list,\"data/jsonl/word_qa.jsonl\")"
   ]
  }
 ],
 "metadata": {
  "kernelspec": {
   "display_name": "textprocess",
   "language": "python",
   "name": "python3"
  },
  "language_info": {
   "codemirror_mode": {
    "name": "ipython",
    "version": 3
   },
   "file_extension": ".py",
   "mimetype": "text/x-python",
   "name": "python",
   "nbconvert_exporter": "python",
   "pygments_lexer": "ipython3",
   "version": "3.11.5"
  }
 },
 "nbformat": 4,
 "nbformat_minor": 2
}
