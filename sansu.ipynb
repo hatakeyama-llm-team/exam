{
 "cells": [
  {
   "cell_type": "code",
   "execution_count": 1,
   "metadata": {},
   "outputs": [],
   "source": [
    "#算数データセット"
   ]
  },
  {
   "cell_type": "code",
   "execution_count": 13,
   "metadata": {},
   "outputs": [],
   "source": [
    "\n",
    "from datasets import load_dataset\n",
    "ds=load_dataset('juletxara/mgsm',\n",
    "                \"ja\",\n",
    "                #language=\"japanese\",\n",
    "                split=\"test\",\n",
    "                )    \n"
   ]
  },
  {
   "cell_type": "code",
   "execution_count": 18,
   "metadata": {},
   "outputs": [],
   "source": [
    "inst_text=\"\"\"\n",
    "与えられた計算問題に対する答えを整数または小数で出力してください。数値のみを出力し、それ以外には何も含めないことを厳守してください。\n",
    "次の計算問題を解いてください。答えは数値のみで出力してください。\n",
    "与えられた計算問題の答えを整数または小数で出力してください。数値のみを出力し、それ以外には何も含めないこと。\n",
    "計算問題を解き､回答を出力してください｡回答は数値のみにすること｡\n",
    "計算問題を解いてください。答えは数値のみで出力してください。\n",
    "次の計算問題を解いてください。答えは数値のみで出力してください。\n",
    "計算問題の答えを整数 or 小数で出力すること｡数値のみを出力し､それ以外には何も含めないことを厳守すること｡\n",
    "\"\"\""
   ]
  },
  {
   "cell_type": "code",
   "execution_count": 19,
   "metadata": {},
   "outputs": [],
   "source": [
    "\n",
    "import random\n",
    "from src.utils import write_jsonl,random_toi,random_text_select\n",
    "\n",
    "loader=iter(ds)\n",
    "\n",
    "n_problems=200\n",
    "problem_list=[]\n",
    "for i in range(n_problems):\n",
    "\n",
    "    d=next(loader)\n",
    "\n",
    "    a=d[\"answer_number\"]\n",
    "    q=d[\"question\"]\n",
    "\n",
    "    #作文\n",
    "    q_text=q\n",
    "\n",
    "    d={\n",
    "        \"instruction\":random_text_select(inst_text),\n",
    "        \"question\":q_text,\n",
    "        \"answer\":a,\n",
    "\n",
    "    }\n",
    "    problem_list.append(d)\n",
    "\n",
    "write_jsonl(problem_list,\"data/jsonl/sansu.jsonl\")"
   ]
  },
  {
   "cell_type": "code",
   "execution_count": null,
   "metadata": {},
   "outputs": [],
   "source": []
  },
  {
   "cell_type": "code",
   "execution_count": null,
   "metadata": {},
   "outputs": [],
   "source": []
  }
 ],
 "metadata": {
  "kernelspec": {
   "display_name": "textprocess",
   "language": "python",
   "name": "python3"
  },
  "language_info": {
   "codemirror_mode": {
    "name": "ipython",
    "version": 3
   },
   "file_extension": ".py",
   "mimetype": "text/x-python",
   "name": "python",
   "nbconvert_exporter": "python",
   "pygments_lexer": "ipython3",
   "version": "3.12.2"
  }
 },
 "nbformat": 4,
 "nbformat_minor": 2
}
