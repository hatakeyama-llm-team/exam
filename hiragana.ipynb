{
 "cells": [
  {
   "cell_type": "code",
   "execution_count": 2,
   "metadata": {},
   "outputs": [
    {
     "name": "stdout",
     "output_type": "stream",
     "text": [
      "Collecting pykakasi\n",
      "  Downloading pykakasi-2.2.1-py3-none-any.whl.metadata (10 kB)\n",
      "Collecting jaconv (from pykakasi)\n",
      "  Downloading jaconv-0.3.4.tar.gz (16 kB)\n",
      "  Preparing metadata (setup.py) ... \u001b[?25ldone\n",
      "\u001b[?25hCollecting deprecated (from pykakasi)\n",
      "  Downloading Deprecated-1.2.14-py2.py3-none-any.whl.metadata (5.4 kB)\n",
      "Requirement already satisfied: wrapt<2,>=1.10 in /home/hatakeyama/miniconda3/envs/textprocess/lib/python3.12/site-packages (from deprecated->pykakasi) (1.16.0)\n",
      "Downloading pykakasi-2.2.1-py3-none-any.whl (2.4 MB)\n",
      "\u001b[2K   \u001b[90m━━━━━━━━━━━━━━━━━━━━━━━━━━━━━━━━━━━━━━━━\u001b[0m \u001b[32m2.4/2.4 MB\u001b[0m \u001b[31m9.8 MB/s\u001b[0m eta \u001b[36m0:00:00\u001b[0m:00:01\u001b[0m00:01\u001b[0m\n",
      "\u001b[?25hDownloading Deprecated-1.2.14-py2.py3-none-any.whl (9.6 kB)\n",
      "Building wheels for collected packages: jaconv\n",
      "  Building wheel for jaconv (setup.py) ... \u001b[?25ldone\n",
      "\u001b[?25h  Created wheel for jaconv: filename=jaconv-0.3.4-py3-none-any.whl size=16416 sha256=16067c15b208af5d3115f7616be51f7c497bc710be873a98f7876aec5d357b5f\n",
      "  Stored in directory: /home/hatakeyama/.cache/pip/wheels/06/50/ef/1d13b9ce39476d5f59bba936048f8c6f52f6034e54cb1b5ac4\n",
      "Successfully built jaconv\n",
      "Installing collected packages: jaconv, deprecated, pykakasi\n",
      "Successfully installed deprecated-1.2.14 jaconv-0.3.4 pykakasi-2.2.1\n"
     ]
    },
    {
     "name": "stderr",
     "output_type": "stream",
     "text": [
      "/tmp/ipykernel_1599998/1910635846.py:9: DeprecationWarning: Call to deprecated method setMode. (Old API will be removed in v3.0.) -- Deprecated since version 2.1.\n",
      "  kakasi.setMode('J', 'H')\n",
      "/tmp/ipykernel_1599998/1910635846.py:12: DeprecationWarning: Call to deprecated method getConverter. (Old API will be removed in v3.0.) -- Deprecated since version 2.1.\n",
      "  conv = kakasi.getConverter()\n",
      "/tmp/ipykernel_1599998/1910635846.py:13: DeprecationWarning: Call to deprecated method do. (Old API will be removed in v3.0.) -- Deprecated since version 2.1.\n",
      "  conv.do(text)  # => けいたいそかいせき\n"
     ]
    },
    {
     "data": {
      "text/plain": [
       "'けいたいそかいせき'"
      ]
     },
     "execution_count": 2,
     "metadata": {},
     "output_type": "execute_result"
    }
   ],
   "source": [
    "#!pip install pykakasi\n",
    "from pykakasi import kakasi\n",
    "\n",
    "text = \"形態素解析\"\n",
    "\n",
    "# オブジェクトをインスタンス化\n",
    "kakasi = kakasi()\n",
    "# モードの設定：J(Kanji) to H(Hiragana)\n",
    "kakasi.setMode('J', 'H') \n",
    "\n",
    "# 変換して出力\n",
    "conv = kakasi.getConverter()\n",
    "conv.do(text)  # => けいたいそかいせき"
   ]
  },
  {
   "cell_type": "code",
   "execution_count": null,
   "metadata": {},
   "outputs": [],
   "source": []
  },
  {
   "cell_type": "code",
   "execution_count": null,
   "metadata": {},
   "outputs": [],
   "source": []
  }
 ],
 "metadata": {
  "kernelspec": {
   "display_name": "textprocess",
   "language": "python",
   "name": "python3"
  },
  "language_info": {
   "codemirror_mode": {
    "name": "ipython",
    "version": 3
   },
   "file_extension": ".py",
   "mimetype": "text/x-python",
   "name": "python",
   "nbconvert_exporter": "python",
   "pygments_lexer": "ipython3",
   "version": "3.12.2"
  }
 },
 "nbformat": 4,
 "nbformat_minor": 2
}
