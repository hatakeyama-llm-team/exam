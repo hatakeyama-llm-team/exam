{
 "cells": [
  {
   "cell_type": "code",
   "execution_count": 14,
   "metadata": {},
   "outputs": [],
   "source": [
    "from datasets import load_dataset\n",
    "ds=load_dataset('khalidalt/tydiqa-goldp',\n",
    "                \"japanese\",\n",
    "                #language=\"japanese\",\n",
    "                split=\"train\",\n",
    "                streaming=True)    \n"
   ]
  },
  {
   "cell_type": "code",
   "execution_count": 15,
   "metadata": {},
   "outputs": [],
   "source": [
    "loader=iter(ds)"
   ]
  },
  {
   "cell_type": "code",
   "execution_count": 16,
   "metadata": {},
   "outputs": [],
   "source": [
    "inst_text=\"\"\"\n",
    "質問に対する回答を文章から一言で抽出すること。回答は名詞で回答すること。それ以外には何も含めないこと。\n",
    "回答を文章から一言で回答。 それ以外には何も含めない\n",
    "質問に対する回答を文章から一言、名詞で抽出すること。 それ以外には絶対に含めないこと。\n",
    "次の文章を読み、回答を名詞で抽出すること。 それ以外には絶対に含めないでください。\n",
    "文章を読み、質問に対する回答を名詞で抽出すること。 それ以外には絶対に含めないでください。\n",
    "次の文章を読んだ上で､質問に対する回答を出力せよ｡回答は名詞で出力し､それ以外は含めないこと｡\n",
    "次の文章を読み、質問に対する回答を名詞で抽出すること。 それ以外には絶対に含めないでください。\n",
    "以下の文章を読み、質問に対する回答を名詞で抽出してください。 それ以外には何も含めないでください。\n",
    "以下の文章を読み、質問に対する回答を名詞で抽出してください。 それ以外には何も含めないことを厳守すること。\n",
    "以下の文章を読み、質問に対する回答を名詞で抽出してください。 それ以外には何も含めない。\n",
    "\"\"\""
   ]
  },
  {
   "cell_type": "code",
   "execution_count": 17,
   "metadata": {},
   "outputs": [],
   "source": [
    "import random\n",
    "from src.utils import write_jsonl,random_toi,random_text_select\n",
    "\n",
    "\n",
    "n_problems=3000\n",
    "problem_list=[]\n",
    "for i in range(n_problems):\n",
    "\n",
    "    d=next(loader)\n",
    "\n",
    "    a=d[\"answers\"][\"text\"][0]\n",
    "    text=d[\"passage_text\"]\n",
    "    q=d[\"question_text\"]\n",
    "\n",
    "\n",
    "    #作文\n",
    "    q_text=text+\"\\n\"+random_toi()+q\n",
    "\n",
    "    d={\n",
    "        \"instruction\":random_text_select(inst_text),\n",
    "        \"question\":q_text,\n",
    "        \"answer\":a,\n",
    "\n",
    "    }\n",
    "    problem_list.append(d)\n",
    "\n",
    "write_jsonl(problem_list,\"data/jsonl/dokkai.jsonl\")"
   ]
  },
  {
   "cell_type": "code",
   "execution_count": 18,
   "metadata": {},
   "outputs": [
    {
     "data": {
      "text/plain": [
       "{'instruction': '質問に対する回答を文章から一言で抽出すること。回答は名詞で回答すること。それ以外には何も含めないこと。',\n",
       " 'question': '\\n\\n西ゴート王国（にしゴートおうこく、Latin: Regnum Visigothorum、415年 - 711年）は、現在のフランス南部からイベリア半島にあたる地域を支配したゲルマン系王国。はじめはキリスト教アリウス派、のちにカトリックを国教とし、ゲルマン文化・ローマ文化・キリスト教文化を融合させ栄えた。ビシゴート王国</b>とも[1]。\\n問い：\\u3000西ゴート王国は現在のどこの国に位置した？',\n",
       " 'answer': 'フランス南部からイベリア半島'}"
      ]
     },
     "execution_count": 18,
     "metadata": {},
     "output_type": "execute_result"
    }
   ],
   "source": [
    "d"
   ]
  },
  {
   "cell_type": "code",
   "execution_count": null,
   "metadata": {},
   "outputs": [],
   "source": []
  }
 ],
 "metadata": {
  "kernelspec": {
   "display_name": "textprocess",
   "language": "python",
   "name": "python3"
  },
  "language_info": {
   "codemirror_mode": {
    "name": "ipython",
    "version": 3
   },
   "file_extension": ".py",
   "mimetype": "text/x-python",
   "name": "python",
   "nbconvert_exporter": "python",
   "pygments_lexer": "ipython3",
   "version": "3.12.2"
  }
 },
 "nbformat": 4,
 "nbformat_minor": 2
}
