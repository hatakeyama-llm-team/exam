{
 "cells": [
  {
   "cell_type": "code",
   "execution_count": 3,
   "metadata": {},
   "outputs": [
    {
     "name": "stderr",
     "output_type": "stream",
     "text": [
<<<<<<< HEAD
      "/tmp/ipykernel_2481650/4074556393.py:10: DeprecationWarning: Call to deprecated method setMode. (Old API will be removed in v3.0.) -- Deprecated since version 2.1.\n",
      "  kakasi.setMode('J', 'H')\n",
      "/tmp/ipykernel_2481650/4074556393.py:13: DeprecationWarning: Call to deprecated method getConverter. (Old API will be removed in v3.0.) -- Deprecated since version 2.1.\n",
      "  conv = kakasi.getConverter()\n",
      "/tmp/ipykernel_2481650/4074556393.py:14: DeprecationWarning: Call to deprecated method do. (Old API will be removed in v3.0.) -- Deprecated since version 2.1.\n",
=======
      "/tmp/ipykernel_71643/4074556393.py:10: DeprecationWarning: Call to deprecated method setMode. (Old API will be removed in v3.0.) -- Deprecated since version 2.1.\n",
      "  kakasi.setMode('J', 'H')\n",
      "/tmp/ipykernel_71643/4074556393.py:13: DeprecationWarning: Call to deprecated method getConverter. (Old API will be removed in v3.0.) -- Deprecated since version 2.1.\n",
      "  conv = kakasi.getConverter()\n",
      "/tmp/ipykernel_71643/4074556393.py:14: DeprecationWarning: Call to deprecated method do. (Old API will be removed in v3.0.) -- Deprecated since version 2.1.\n",
>>>>>>> 6c3b3ad (readme)
      "  conv.do(text)  # => けいたいそかいせき\n"
     ]
    },
    {
     "data": {
      "text/plain": [
       "'けいたいそかいせき'"
      ]
     },
     "execution_count": 3,
     "metadata": {},
     "output_type": "execute_result"
    }
   ],
   "source": [
    "#!pip install pykakasi\n",
    "from pykakasi import kakasi\n",
    "import random\n",
    "\n",
    "text = \"形態素解析\"\n",
    "\n",
    "# オブジェクトをインスタンス化\n",
    "kakasi = kakasi()\n",
    "# モードの設定：J(Kanji) to H(Hiragana)\n",
    "kakasi.setMode('J', 'H') \n",
    "\n",
    "# 変換して出力\n",
    "conv = kakasi.getConverter()\n",
    "conv.do(text)  # => けいたいそかいせき"
   ]
  },
  {
   "cell_type": "code",
   "execution_count": 4,
   "metadata": {},
   "outputs": [
    {
     "name": "stderr",
     "output_type": "stream",
     "text": [
      "/home/setup/miniconda3/envs/ft/lib/python3.11/site-packages/tqdm/auto.py:21: TqdmWarning: IProgress not found. Please update jupyter and ipywidgets. See https://ipywidgets.readthedocs.io/en/stable/user_install.html\n",
      "  from .autonotebook import tqdm as notebook_tqdm\n"
     ]
    }
   ],
   "source": [
    "from datasets import load_dataset\n",
    "streaming=True\n",
    "dataset= load_dataset(\"hpprc/wikipedia-20240101\", split=\"train\",\n",
    "                        streaming=streaming\n",
    "                        ).shuffle()"
   ]
  },
  {
   "cell_type": "code",
   "execution_count": 5,
   "metadata": {},
   "outputs": [],
   "source": [
    "import random\n",
    "loader=iter(dataset)\n",
    "\n"
   ]
  },
  {
   "cell_type": "code",
   "execution_count": 6,
   "metadata": {},
   "outputs": [
    {
     "name": "stderr",
     "output_type": "stream",
     "text": [
<<<<<<< HEAD
      "/tmp/ipykernel_2481650/662592312.py:30: DeprecationWarning: Call to deprecated method do. (Old API will be removed in v3.0.) -- Deprecated since version 2.1.\n",
=======
      "/tmp/ipykernel_71643/3796002739.py:42: DeprecationWarning: Call to deprecated method do. (Old API will be removed in v3.0.) -- Deprecated since version 2.1.\n",
>>>>>>> 6c3b3ad (readme)
      "  a=conv.do(q)\n"
     ]
    }
   ],
   "source": [
    "from src.utils import write_jsonl,random_text_select\n",
    "n_samples=6000\n",
    "inst_lines=\"\"\"テキストをひらがなにしてください。\n",
    "全部ひらがなで書き直して\n",
    "テキスト全体をひらがなに変更していただけますか？\n",
    "ひらがなにして。\n",
    "このテキスト、ひらがなでお願いします。\n",
    "ひらがなに変換してください。\n",
    "文字をすべてひらがなで表記してほしい。\n",
    "テキストを全部、ひらがなで再度書いてもらえますか？\n",
    "これ、ひらがなに変えてもらえる？\n",
    "ひらがなに変えて。\n",
    "以下のテキストをすべてひらがなに変換すること。\n",
    "以下のテキストをすべてひらがなに変換すること。他に何も出力しないこと。\n",
    "テキストをすべてひらがなにしてください。\n",
    "全文をひらがなで書き直してください。\n",
    "このテキストをひらがなに変更してください。\n",
    "ひらがなで書いてください。\n",
    "この文章をひらがなでお願いします。\n",
    "ひらがなに変換してください。\n",
    "文章をすべてひらがなで表記してください。\n",
    "このテキストをひらがなで再度書いてください。\n",
    "これをひらがなに変えてください。\n",
    "以下の文章をすべてひらがなに変換してください。\n",
    "以下の文章をすべてひらがなに変換し、他には何も出力しないこと。\n",
    "ひらがなにしてください。\n",
    "ひらがなに変換\"\"\"\n",
    "\n",
    "problem_list=[]\n",
    "for i in range(n_samples):\n",
    "    text=next(loader)[\"text\"]\n",
    "\n",
    "\n",
    "    lines=text.split(\"\\n\")\n",
    "    lines=[i.strip() for i in lines if i.find(\"。\")>0]\n",
    "    lines=[i.replace(\"（）\",\"\").replace(\"（、）\",\"\") for i in lines if len(i)>30]\n",
    "    lines=[i for i in lines if len(i)<60]\n",
    "    if len(lines)==0:\n",
    "        continue\n",
    "\n",
    "    q=random.choice(lines)\n",
    "    a=conv.do(q)\n",
    "    d={\n",
    "        \"instruction\":random_text_select(inst_lines),\n",
    "        \"question\":q,\n",
    "        \"answer\":a\n",
    "    }\n",
    "    problem_list.append(d)\n",
    "\n",
    "write_jsonl(problem_list,\"data/jsonl/hiragana.jsonl\")"
   ]
  },
  {
   "cell_type": "code",
   "execution_count": null,
   "metadata": {},
   "outputs": [],
   "source": []
  },
  {
   "cell_type": "code",
   "execution_count": null,
   "metadata": {},
   "outputs": [],
   "source": []
  },
  {
   "cell_type": "code",
   "execution_count": null,
   "metadata": {},
   "outputs": [],
   "source": []
  }
 ],
 "metadata": {
  "kernelspec": {
   "display_name": "textprocess",
   "language": "python",
   "name": "python3"
  },
  "language_info": {
   "codemirror_mode": {
    "name": "ipython",
    "version": 3
   },
   "file_extension": ".py",
   "mimetype": "text/x-python",
   "name": "python",
   "nbconvert_exporter": "python",
   "pygments_lexer": "ipython3",
   "version": "3.11.5"
  }
 },
 "nbformat": 4,
 "nbformat_minor": 2
}
