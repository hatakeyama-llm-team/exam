{
 "cells": [
  {
   "cell_type": "code",
   "execution_count": 8,
   "metadata": {},
   "outputs": [
    {
     "name": "stderr",
     "output_type": "stream",
     "text": [
      "/tmp/ipykernel_1600388/4074556393.py:10: DeprecationWarning: Call to deprecated method setMode. (Old API will be removed in v3.0.) -- Deprecated since version 2.1.\n",
      "  kakasi.setMode('J', 'H')\n",
      "/tmp/ipykernel_1600388/4074556393.py:13: DeprecationWarning: Call to deprecated method getConverter. (Old API will be removed in v3.0.) -- Deprecated since version 2.1.\n",
      "  conv = kakasi.getConverter()\n",
      "/tmp/ipykernel_1600388/4074556393.py:14: DeprecationWarning: Call to deprecated method do. (Old API will be removed in v3.0.) -- Deprecated since version 2.1.\n",
      "  conv.do(text)  # => けいたいそかいせき\n"
     ]
    },
    {
     "data": {
      "text/plain": [
       "'けいたいそかいせき'"
      ]
     },
     "execution_count": 8,
     "metadata": {},
     "output_type": "execute_result"
    }
   ],
   "source": [
    "#!pip install pykakasi\n",
    "from pykakasi import kakasi\n",
    "import random\n",
    "\n",
    "text = \"形態素解析\"\n",
    "\n",
    "# オブジェクトをインスタンス化\n",
    "kakasi = kakasi()\n",
    "# モードの設定：J(Kanji) to H(Hiragana)\n",
    "kakasi.setMode('J', 'H') \n",
    "\n",
    "# 変換して出力\n",
    "conv = kakasi.getConverter()\n",
    "conv.do(text)  # => けいたいそかいせき"
   ]
  },
  {
   "cell_type": "code",
   "execution_count": 3,
   "metadata": {},
   "outputs": [
    {
     "name": "stderr",
     "output_type": "stream",
     "text": [
      "Downloading data:   6%|▌         | 33.6M/543M [00:15<01:11, 7.13MB/s]"
     ]
    }
   ],
   "source": [
    "from datasets import load_dataset\n",
    "streaming=True\n",
    "dataset= load_dataset(\"hpprc/wikipedia-20240101\", split=\"train\",\n",
    "                        streaming=streaming\n",
    "                        ).shuffle()"
   ]
  },
  {
   "cell_type": "code",
   "execution_count": 5,
   "metadata": {},
   "outputs": [],
   "source": [
    "loader=iter(dataset)\n"
   ]
  },
  {
   "cell_type": "code",
   "execution_count": 48,
   "metadata": {},
   "outputs": [
    {
     "name": "stderr",
     "output_type": "stream",
     "text": [
      "/tmp/ipykernel_1600388/3370488086.py:17: DeprecationWarning: Call to deprecated method do. (Old API will be removed in v3.0.) -- Deprecated since version 2.1.\n",
      "  hira=conv.do(line)\n"
     ]
    }
   ],
   "source": [
    "n_samples=600\n",
    "text_list=[]\n",
    "hiragan_list=[]\n",
    "\n",
    "for i in range(n_samples):\n",
    "    text=next(loader)[\"text\"]\n",
    "\n",
    "\n",
    "    lines=text.split(\"\\n\")\n",
    "    lines=[i.strip() for i in lines if i.find(\"。\")>0]\n",
    "    lines=[i.replace(\"（）\",\"\").replace(\"（、）\",\"\") for i in lines if len(i)>30]\n",
    "    lines=[i for i in lines if len(i)<60]\n",
    "    if len(lines)==0:\n",
    "        continue\n",
    "\n",
    "    line=random.choice(lines)\n",
    "    hira=conv.do(line)\n",
    "    text_list.append(line)\n",
    "    hiragan_list.append(hira)"
   ]
  },
  {
   "cell_type": "code",
   "execution_count": 49,
   "metadata": {},
   "outputs": [],
   "source": [
    "with open(\"data/hiragana/text.txt\", \"w\") as f:\n",
    "    for i in text_list:\n",
    "        f.write(i+\"\\n\")\n",
    "with open(\"data/hiragana/hiragan.txt\", \"w\") as f:\n",
    "    for i in hiragan_list:\n",
    "        f.write(i+\"\\n\")"
   ]
  },
  {
   "cell_type": "code",
   "execution_count": 50,
   "metadata": {},
   "outputs": [],
   "source": [
    "inst_lines=\"\"\"テキストをひらがなにしてください。\n",
    "全部ひらがなで書き直して\n",
    "テキスト全体をひらがなに変更していただけますか？\n",
    "ひらがなにして。\n",
    "このテキスト、ひらがなでお願いします。\n",
    "ひらがなに変換してください。\n",
    "文字をすべてひらがなで表記してほしい。\n",
    "テキストを全部、ひらがなで再度書いてもらえますか？\n",
    "これ、ひらがなに変えてもらえる？\n",
    "ひらがなに変えて。\n",
    "以下のテキストをすべてひらがなに変換すること。\n",
    "以下のテキストをすべてひらがなに変換すること。他に何も出力しないこと。\n",
    "ひらがなに変換\"\"\"\n",
    "inst_lines=inst_lines.split(\"\\n\")\n",
    "for i in range(len(text_list)):\n",
    "    inst=random.choice(inst_lines)\n",
    "    with open(\"data/hiragana/instructions.txt\", \"a\") as f:\n",
    "        f.write(inst+\"\\n\")"
   ]
  },
  {
   "cell_type": "code",
   "execution_count": null,
   "metadata": {},
   "outputs": [],
   "source": []
  },
  {
   "cell_type": "code",
   "execution_count": null,
   "metadata": {},
   "outputs": [],
   "source": []
  }
 ],
 "metadata": {
  "kernelspec": {
   "display_name": "textprocess",
   "language": "python",
   "name": "python3"
  },
  "language_info": {
   "codemirror_mode": {
    "name": "ipython",
    "version": 3
   },
   "file_extension": ".py",
   "mimetype": "text/x-python",
   "name": "python",
   "nbconvert_exporter": "python",
   "pygments_lexer": "ipython3",
   "version": "3.12.2"
  }
 },
 "nbformat": 4,
 "nbformat_minor": 2
}
