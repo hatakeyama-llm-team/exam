{
 "cells": [
  {
   "cell_type": "code",
   "execution_count": 6,
   "metadata": {},
   "outputs": [],
   "source": [
    "#true/false系問題"
   ]
  },
  {
   "cell_type": "code",
   "execution_count": 7,
   "metadata": {},
   "outputs": [],
   "source": [
    "from datasets import load_dataset\n",
    "import pandas as pd\n",
    "\n",
    "#英語のデータセットの抽出用\n",
    "#dataset=load_dataset(\"google/boolq\",split=\"train\")\n",
    "#df=pd.DataFrame(dataset)\n",
    "#df.to_csv(\"data/boolq.csv\",index=False)"
   ]
  },
  {
   "cell_type": "code",
   "execution_count": 8,
   "metadata": {},
   "outputs": [],
   "source": [
    "df=pd.read_csv(\"datasets/boolq_ja.csv\")\n",
    "df\n",
    "\n",
    "loader=iter(df.values)"
   ]
  },
  {
   "cell_type": "code",
   "execution_count": 9,
   "metadata": {},
   "outputs": [
    {
     "data": {
      "text/plain": [
       "array(['FIFAは4年ごとに新しいワールドカップトロフィーを作りますか？', 'No'], dtype=object)"
      ]
     },
     "execution_count": 9,
     "metadata": {},
     "output_type": "execute_result"
    }
   ],
   "source": [
    "next(loader)"
   ]
  },
  {
   "cell_type": "code",
   "execution_count": 10,
   "metadata": {},
   "outputs": [],
   "source": [
    "from src.utils import random_text_select,write_jsonl\n",
    "inst_lines=\"\"\"次の質問に回答してください。それ以外のことは書かないでください。\n",
    "以下の質問に答えてください。回答のみを出力することを厳守\n",
    "次の質問への回答を生成。回答のみを記載してください。\n",
    "質問に対する答えを教えて。余計なことは一切書かないで。\n",
    "回答以外何も書かずに、この質問に答えて\n",
    "この質問に答えてください。他のことは記載しないでください。\n",
    "次の質問に答えてください。他は何も書かないよう、厳守をお願いします。\n",
    "この質問に答えて。それ以外のことは記載しないで。\n",
    "下記の質問に対する回答をお願いします。回答以外は何も書かないことを厳守すること。\"\"\"\n",
    "\n",
    "n_problems=120\n",
    "problem_list=[]\n",
    "for i in range(n_problems):\n",
    "    problem=next(loader)\n",
    "    q=problem[0]\n",
    "    a=problem[1]\n",
    "\n",
    "    #作文\n",
    "    q_text=q\n",
    "    d={\n",
    "        \"instruction\":random_text_select(inst_lines),\n",
    "        \"question\":q_text,\n",
    "        \"answer\":a\n",
    "    }\n",
    "    problem_list.append(d)\n",
    "write_jsonl(problem_list,\"data/jsonl/boolq.jsonl\")"
   ]
  },
  {
   "cell_type": "code",
   "execution_count": null,
   "metadata": {},
   "outputs": [],
   "source": []
  }
 ],
 "metadata": {
  "kernelspec": {
   "display_name": "textprocess",
   "language": "python",
   "name": "python3"
  },
  "language_info": {
   "codemirror_mode": {
    "name": "ipython",
    "version": 3
   },
   "file_extension": ".py",
   "mimetype": "text/x-python",
   "name": "python",
   "nbconvert_exporter": "python",
   "pygments_lexer": "ipython3",
   "version": "3.11.5"
  }
 },
 "nbformat": 4,
 "nbformat_minor": 2
}
